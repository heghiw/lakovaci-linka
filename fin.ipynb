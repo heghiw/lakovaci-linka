{
  "nbformat": 4,
  "nbformat_minor": 0,
  "metadata": {
    "colab": {
      "provenance": [],
      "authorship_tag": "ABX9TyMRNjnntYrxWF0rh+3T1JVJ",
      "include_colab_link": true
    },
    "kernelspec": {
      "name": "python3",
      "display_name": "Python 3"
    },
    "language_info": {
      "name": "python"
    }
  },
  "cells": [
    {
      "cell_type": "markdown",
      "metadata": {
        "id": "view-in-github",
        "colab_type": "text"
      },
      "source": [
        "<a href=\"https://colab.research.google.com/github/heghiw/lakovaci-linka/blob/main/fin.ipynb\" target=\"_parent\"><img src=\"https://colab.research.google.com/assets/colab-badge.svg\" alt=\"Open In Colab\"/></a>"
      ]
    },
    {
      "cell_type": "code",
      "source": [
        "!pip install pulp\n",
        "import pandas as pd\n",
        "\n",
        "\n",
        "import pandas as pd\n",
        "import numpy as np\n",
        "import pulp"
      ],
      "metadata": {
        "colab": {
          "base_uri": "https://localhost:8080/"
        },
        "id": "ZQRj8-2310eo",
        "outputId": "4fe7e75d-ec8a-4f7f-9db7-ee8acfcc3529"
      },
      "execution_count": 1,
      "outputs": [
        {
          "output_type": "stream",
          "name": "stdout",
          "text": [
            "Collecting pulp\n",
            "  Downloading pulp-3.1.1-py3-none-any.whl.metadata (1.3 kB)\n",
            "Downloading pulp-3.1.1-py3-none-any.whl (16.4 MB)\n",
            "\u001b[2K   \u001b[90m━━━━━━━━━━━━━━━━━━━━━━━━━━━━━━━━━━━━━━━━\u001b[0m \u001b[32m16.4/16.4 MB\u001b[0m \u001b[31m22.4 MB/s\u001b[0m eta \u001b[36m0:00:00\u001b[0m\n",
            "\u001b[?25hInstalling collected packages: pulp\n",
            "Successfully installed pulp-3.1.1\n"
          ]
        }
      ]
    },
    {
      "cell_type": "code",
      "source": [
        "# Remove the existing directory\n",
        "!rm -rf lakovaci-linka\n",
        "\n",
        "# Clone the repository again\n",
        "!git clone https://github.com/heghiw/lakovaci-linka.git\n",
        "\n",
        "# Navigate to the directory\n",
        "%cd lakovaci-linka\n"
      ],
      "metadata": {
        "colab": {
          "base_uri": "https://localhost:8080/"
        },
        "id": "Cp8IUFAwGq4h",
        "outputId": "f7194683-bad6-4a02-856a-b7331c1e9cb1"
      },
      "execution_count": 2,
      "outputs": [
        {
          "output_type": "stream",
          "name": "stdout",
          "text": [
            "Cloning into 'lakovaci-linka'...\n",
            "remote: Enumerating objects: 133, done.\u001b[K\n",
            "remote: Counting objects: 100% (133/133), done.\u001b[K\n",
            "remote: Compressing objects: 100% (128/128), done.\u001b[K\n",
            "remote: Total 133 (delta 62), reused 0 (delta 0), pack-reused 0 (from 0)\u001b[K\n",
            "Receiving objects: 100% (133/133), 9.61 MiB | 10.83 MiB/s, done.\n",
            "Resolving deltas: 100% (62/62), done.\n",
            "/content/lakovaci-linka\n"
          ]
        }
      ]
    },
    {
      "cell_type": "markdown",
      "source": [
        "data prep"
      ],
      "metadata": {
        "id": "08D8KthMHW1X"
      }
    },
    {
      "cell_type": "code",
      "source": [
        "# Define the path to the Excel file\n",
        "file_path = '/content/lakovaci-linka/data1.xlsx'\n",
        "\n",
        "# Read the sheet 'linka' into a DataFrame\n",
        "linka_df = pd.read_excel(file_path, sheet_name='linka')\n",
        "\n",
        "# Read the sheet 'recept' into a DataFrame\n",
        "recept_df = pd.read_excel(file_path, sheet_name='recept')\n",
        "\n",
        "print(\"Linka:\")\n",
        "print(linka_df)\n",
        "print(\"\\nRecepty:\")\n",
        "print(recept_df)"
      ],
      "metadata": {
        "colab": {
          "base_uri": "https://localhost:8080/"
        },
        "id": "J8oJ_fs2HWT6",
        "outputId": "4ac8e6b2-d0a6-4ab5-cccc-372ce1f46f68",
        "collapsed": true
      },
      "execution_count": 3,
      "outputs": [
        {
          "output_type": "stream",
          "name": "stdout",
          "text": [
            "Linka:\n",
            "             typ vany  id_vany   pozice_x_rel  pozice_x_cum\n",
            "0               vstup         0           0.0           0.0\n",
            "1        Teplý oplach         1        2300.0        2300.0\n",
            "2             Postřik         2        1900.0        4200.0\n",
            "3    Ponor odm železo         3        1900.0        6100.0\n",
            "4    Ponor odm pozink         4        1800.0        7900.0\n",
            "5            oplach 1         5        1800.0        9700.0\n",
            "6            oplach 2         6        1800.0       11500.0\n",
            "7       Moření železo         7        1800.0       13300.0\n",
            "8       Moření pozink         8        1800.0       15100.0\n",
            "9      Oplach moř žel         9        1800.0       16900.0\n",
            "10  Oplach moř pozink        10        1800.0       18700.0\n",
            "11    oplach společný        11        1800.0       20500.0\n",
            "12           aktivace        12        1800.0       22300.0\n",
            "13             fosfát        13        1800.0       24100.0\n",
            "14             oplach        14        1800.0       25900.0\n",
            "15            Oplach         21        1800.0       27700.0\n",
            "16           pasivace        15        1800.0       29500.0\n",
            "17        demi oplach        16        1800.0       31300.0\n",
            "18                KTL        17        2300.0       33600.0\n",
            "19                UF1        18        2300.0       35900.0\n",
            "20                UF2        19        1800.0       37700.0\n",
            "21               Demi        20        1800.0       39500.0\n",
            "22            vystup        100        2300.0       41800.0\n",
            "23             vozik        500           NaN           NaN\n",
            "\n",
            "Recepty:\n",
            "     tech  id_vany  poradi_operace  cas_min  cas_max  cas_opt  okap  okap_cas\n",
            "0   tech1        0               1        0        0        0     0         0\n",
            "1   tech1        1               2       90      180      120     1        20\n",
            "2   tech1        2               3      120      180      160     0         0\n",
            "3   tech1        3               4      180      240      220     1        20\n",
            "4   tech1        5               5       45      120       60     1        15\n",
            "5   tech1        6               6       45      120       60     1        15\n",
            "6   tech1        7               7      420      500      480     1        20\n",
            "7   tech1        9               8       45       75       60     1        15\n",
            "8   tech1       11               9       45       75       60     1        15\n",
            "9   tech1       12              10       60      120       90     1        20\n",
            "10  tech1       13              11      300      360      330     1        20\n",
            "11  tech1       14              12       60       90       75     1        15\n",
            "12  tech1       21              13       60       90       75     1        15\n",
            "13  tech1       15              14       60      120       90     1        20\n",
            "14  tech1       16              15       60       90       75     1        15\n",
            "15  tech1       17              16      180      260      220     1        20\n",
            "16  tech1       18              17       60      120       90     1         1\n",
            "17  tech1       19              18       60      120       90     1         1\n",
            "18  tech1       20              19       60      120       90     1         1\n",
            "19  tech1      100              20        0        0        0     0         0\n",
            "20  tech2        0               1        0        0        0     0         0\n",
            "21  tech2        1               2       90      180      120     1        20\n",
            "22  tech2        2               3      120      180      160     0         0\n",
            "23  tech2        3               4      180      240      220     1        20\n",
            "24  tech2        5               5       45      120       60     1        15\n",
            "25  tech2        6               6       45      120       60     1        15\n",
            "26  tech2       11               7       45       75       60     1        15\n",
            "27  tech2       12               8      120      180      160     1        20\n",
            "28  tech2       13               9      300      360      330     1        20\n",
            "29  tech2       14              10       60       90       75     1        15\n",
            "30  tech2       21              11       60       90       75     1        15\n",
            "31  tech2       15              12       60      120       90     1        20\n",
            "32  tech2       16              13       60       90       75     1        15\n",
            "33  tech2       17              14      180      260      220     1        20\n",
            "34  tech2       18              15       60      120       90     1         1\n",
            "35  tech2       19              16       60      120       90     1         1\n",
            "36  tech2       20              17       60      120       90     1         1\n",
            "37  tech2      100              18        0        0        0     0         0\n",
            "38  tech3        0               1        0        0        0     0         0\n",
            "39  tech3        1               2       90      180      120     1        20\n",
            "40  tech3        2               3       60      120       90     0         0\n",
            "41  tech3        4               4       60      120       90     1        20\n",
            "42  tech3        5               5       45      120       60     1        15\n",
            "43  tech3        6               6       45      120       60     1        15\n",
            "44  tech3        8               7       90      150      120     1        20\n",
            "45  tech3       10               8       45       75       60     1        15\n",
            "46  tech3       11               9       45       75       60     1        15\n",
            "47  tech3       12              10      120      180      160     1        20\n",
            "48  tech3       13              11      300      360      330     1        20\n",
            "49  tech3       14              12       60       90       75     1        15\n",
            "50  tech3       21              13       60       90       75     1        15\n",
            "51  tech3       15              14       60      120       90     1        20\n",
            "52  tech3       16              15       60       90       75     1        15\n",
            "53  tech3       17              16      180      260      220     1        20\n",
            "54  tech3       18              17       60      120       90     1         1\n",
            "55  tech3       19              18       60      120       90     1         1\n",
            "56  tech3       20              19       60      120       90     1         1\n",
            "57  tech3      100              20        0        0        0     0         0\n"
          ]
        }
      ]
    },
    {
      "cell_type": "markdown",
      "source": [
        "manipulator and vozik characteristics"
      ],
      "metadata": {
        "id": "CRn8ooFqOxhr"
      }
    },
    {
      "cell_type": "code",
      "source": [
        "manipulator_characteristics = {\n",
        "        \"okap_point\": 2000,\n",
        "        \"highest_point\": 2750,\n",
        "        \"deceleration_point\": 500,\n",
        "        \"speed_after_ponoreni\": 8,\n",
        "        \"speed_going_up\": 15,\n",
        "        \"speed_going_down\": 12,\n",
        "        \"speed_left_right\": 35\n",
        "    }"
      ],
      "metadata": {
        "id": "1d0tHwv-hVMU"
      },
      "execution_count": 4,
      "outputs": []
    },
    {
      "cell_type": "code",
      "source": [
        "linka_df.columns = linka_df.columns.str.strip()\n",
        "recept_df.columns = recept_df.columns.str.strip()\n",
        "print(linka_df.columns)\n",
        "print(recept_df.columns)"
      ],
      "metadata": {
        "id": "bYHCTFpJWZXS",
        "outputId": "9c6c96fe-bd4a-49a5-a54d-977dec41d62a",
        "colab": {
          "base_uri": "https://localhost:8080/"
        }
      },
      "execution_count": 5,
      "outputs": [
        {
          "output_type": "stream",
          "name": "stdout",
          "text": [
            "Index(['typ vany', 'id_vany', 'pozice_x_rel', 'pozice_x_cum'], dtype='object')\n",
            "Index(['tech', 'id_vany', 'poradi_operace', 'cas_min', 'cas_max', 'cas_opt',\n",
            "       'okap', 'okap_cas'],\n",
            "      dtype='object')\n"
          ]
        }
      ]
    },
    {
      "cell_type": "markdown",
      "source": [
        "### Transition Matrix Definition\n",
        "\n",
        "We define the transition time matrix \\( T \\in \\mathbb{R}^{n \\times n} \\) as:\n",
        "\n",
        "\\[\n",
        "T_{i,j} =\n",
        "\\begin{cases}\n",
        "\\text{dwell}_j, & \\text{if } i = j \\quad \\text{(product dwell)} \\\\\\\\\n",
        "\\text{move}(i, j) + \\text{lower} + \\text{raise}(j), & \\text{if } i < j \\quad \\text{(product forward move)} \\\\\\\\\n",
        "\\text{move}(i, j), & \\text{if } i > j \\quad \\text{(empty/utility move)}\n",
        "\\end{cases}\n",
        "\\]\n",
        "\n",
        "---\n",
        "\n",
        "### Vertical Raise Logic\n",
        "\n",
        "\\[\n",
        "\\text{raise}(j) =\n",
        "\\begin{cases}\n",
        "\\displaystyle\n",
        "\\frac{h_\\text{bottom} - h_\\text{okap}}{v_\\text{up}} + t_\\text{okap} + \\frac{h_\\text{okap} - h_\\text{top}}{v_\\text{up}}, & \\text{if okap}_j = 1 \\\\\\\\\n",
        "\\displaystyle\n",
        "\\frac{h_\\text{bottom} - h_\\text{top}}{v_\\text{up}}, & \\text{if okap}_j = 0\n",
        "\\end{cases}\n",
        "\\]\n",
        "\n",
        "---\n",
        "\n",
        "### Vertical and Horizontal Movement\n",
        "\n",
        "\\[\n",
        "\\text{lower} = \\frac{h_\\text{top} - h_\\text{bottom}}{v_\\text{down}}, \\quad\n",
        "\\text{move}(i, j) = \\frac{|x_j - x_i|}{v_\\text{horizontal}}\n",
        "\\]\n",
        "\n",
        "---\n",
        "\n",
        "### Parameters from Simulation\n",
        "\n",
        "- \\( h_\\text{top} = 2750 \\,\\text{mm} \\)\n",
        "- \\( h_\\text{okap} = 2000 \\,\\text{mm} \\)\n",
        "- \\( h_\\text{bottom} = 0 \\,\\text{mm} \\)\n",
        "- \\( v_\\text{horizontal} = 35 \\,\\text{m/min} \\)\n",
        "- \\( v_\\text{down} = 12 \\,\\text{m/min} \\)\n",
        "- \\( v_\\text{up} = 15 \\,\\text{m/min} \\)\n",
        "- \\( t_\\text{okap} \\): pause time at okap height (from recipe)\n",
        "- \\( \\text{okap}_j \\): indicator whether okap is required at bath \\( j \\)\n"
      ],
      "metadata": {
        "id": "m1jQG-lGlX7B"
      }
    },
    {
      "cell_type": "code",
      "source": [
        "import pandas as pd\n",
        "import numpy as np\n",
        "from scipy.stats import truncnorm\n",
        "import math\n",
        "\n",
        "# ---- CONFIG ----\n",
        "manipulator_characteristics = {\n",
        "    \"okap_point\": 2000,\n",
        "    \"highest_point\": 2750,\n",
        "    \"deceleration_point\": 500,\n",
        "    \"speed_after_ponoreni\": 8,\n",
        "    \"speed_going_up\": 15,\n",
        "    \"speed_going_down\": 12,\n",
        "    \"speed_left_right\": 35\n",
        "}\n",
        "takt_limit = 300  # seconds\n",
        "\n",
        "# ---- HELPER FUNCTIONS ----\n",
        "\n",
        "def get_distance(x1, x2):\n",
        "    return abs(x1 - x2)\n",
        "\n",
        "def vertical_time(down=True, okap_time=0):\n",
        "    mc = manipulator_characteristics\n",
        "    if down:\n",
        "        distance = mc[\"highest_point\"]\n",
        "        speed = mc[\"speed_going_down\"]\n",
        "        return (distance / 1000) / (speed / 60)\n",
        "    else:\n",
        "        h1 = (mc[\"highest_point\"] - mc[\"okap_point\"]) / 1000\n",
        "        h2 = mc[\"okap_point\"] / 1000\n",
        "        v_up = mc[\"speed_going_up\"] / 60  # m/s\n",
        "        return (h1 / v_up) + okap_time + (h2 / v_up)\n",
        "\n",
        "def horizontal_time(pos1, pos2):\n",
        "    dist = get_distance(pos1, pos2)\n",
        "    return (dist / 1000) / (manipulator_characteristics[\"speed_left_right\"] / 60)\n",
        "\n",
        "def move_time(i, j, linka_df, okap_time_dict=None):\n",
        "    pos_i = linka_df.loc[i, \"pozice_x_cum\"] if i in linka_df.index else 0\n",
        "    pos_j = linka_df.loc[j, \"pozice_x_cum\"] if j in linka_df.index else 0\n",
        "\n",
        "    okap_i = okap_time_dict.get(i, 0)\n",
        "    horiz = horizontal_time(pos_i, pos_j)\n",
        "    down = vertical_time(down=True)\n",
        "    up = vertical_time(down=False)\n",
        "\n",
        "    if i == j:\n",
        "        return 0.0  # dwell handled separately\n",
        "\n",
        "    elif j - i == 1:\n",
        "        # Special adjacent case\n",
        "        return down + up + okap_i + horiz + down + up\n",
        "\n",
        "    else:\n",
        "        return horiz  # simple horizontal move\n",
        "\n",
        "def sample_dwell(row):\n",
        "    a, b, mu = row[\"cas_min\"], row[\"cas_max\"], row[\"cas_opt\"]\n",
        "    if b <= a or np.isnan(a) or np.isnan(b) or np.isnan(mu):\n",
        "        return mu\n",
        "    sigma = (b - a) / 6\n",
        "    return truncnorm((a - mu) / sigma, (b - mu) / sigma, loc=mu, scale=sigma).rvs()\n",
        "\n",
        "# ---- CORRIDOR ASSIGNMENT FUNCTION WITH OVERLAP ----\n",
        "def assign_corridors_with_overlap(bath_ids, linka_df, num_manips, overlap=1):\n",
        "    bath_pos = linka_df.set_index(\"id_vany\")[\"pozice_x_cum\"].to_dict()\n",
        "    bath_pos[0] = -1000\n",
        "    bath_pos[100] = 100000\n",
        "    bath_ids = sorted(bath_ids, key=lambda b: bath_pos.get(b, float('inf')))\n",
        "\n",
        "    n = len(bath_ids)\n",
        "    base_size = math.ceil(n / num_manips)\n",
        "    corridors = []\n",
        "\n",
        "    for i in range(num_manips):\n",
        "        start = max(0, i * base_size - overlap)\n",
        "        end = min(n, (i + 1) * base_size + overlap)\n",
        "        corridor = bath_ids[start:end]\n",
        "        corridors.append(sorted(set(corridor), key=lambda b: bath_pos.get(b, float('inf'))))\n",
        "\n",
        "    return corridors\n",
        "\n",
        "# ---- MAIN LOGIC ----\n",
        "\n",
        "tech = input(\"Enter technology (e.g., 'tech0', but not tech0): \").strip()\n",
        "recipe = recept_df[recept_df.tech == tech].copy()\n",
        "recipe = recipe.sort_values(\"poradi_operace\")\n",
        "\n",
        "# Include vstup (0) and vystup (100)\n",
        "recipe_baths = [0] + recipe[\"id_vany\"].tolist() + [100]\n",
        "all_baths = pd.DataFrame({'id_vany': recipe_baths}).drop_duplicates()\n",
        "\n",
        "# Map physical positions\n",
        "linka_positions = linka_df.set_index(\"id_vany\")[\"pozice_x_cum\"]\n",
        "all_baths[\"pozice_x_cum\"] = all_baths[\"id_vany\"].map(linka_positions).fillna(-1)\n",
        "all_baths.loc[all_baths[\"id_vany\"] == 0, \"pozice_x_cum\"] = -1000\n",
        "all_baths.loc[all_baths[\"id_vany\"] == 100, \"pozice_x_cum\"] = 100000\n",
        "unique_baths = all_baths.sort_values(\"pozice_x_cum\")[\"id_vany\"].tolist()\n",
        "\n",
        "# Sample dwell times\n",
        "dwell_times = {row.id_vany: sample_dwell(row) for _, row in recipe.iterrows()}\n",
        "dwell_times[0] = 0\n",
        "dwell_times[100] = 0\n",
        "\n",
        "# Okap info\n",
        "okap_time_dict = {row.id_vany: row.okap_cas if row.okap else 0 for _, row in recipe.iterrows()}\n",
        "okap_time_dict[0] = 0\n",
        "okap_time_dict[100] = 0\n",
        "\n",
        "# Transition Matrix\n",
        "matrix = pd.DataFrame(index=unique_baths, columns=unique_baths, dtype=float)\n",
        "for i in unique_baths:\n",
        "    for j in unique_baths:\n",
        "        if i == j:\n",
        "            matrix.loc[i, j] = dwell_times.get(i, 0)\n",
        "        else:\n",
        "            matrix.loc[i, j] = move_time(i, j, linka_df.set_index(\"id_vany\"), okap_time_dict)\n",
        "\n",
        "print(\"\\n--- TRANSITION MATRIX for\", tech, \"---\")\n",
        "print(matrix.round(1).to_string())\n",
        "\n",
        "# Manipulator count suggestion\n",
        "max_manips = len(unique_baths) - 1\n",
        "suggested = math.ceil(len(unique_baths) / 2)\n",
        "print(\"\\n✅ Suggested Manipulator Count:\", suggested)\n",
        "\n",
        "# Manual override\n",
        "user_input = input(\"Enter number of manipulators (or press Enter to use suggestion): \").strip()\n",
        "num_manips = suggested if not user_input else int(user_input)\n",
        "\n",
        "# Assign overlapping corridors\n",
        "corridors = assign_corridors_with_overlap(unique_baths, linka_df, num_manips, overlap=1)\n",
        "\n",
        "# Display corridor assignments\n",
        "print(\"\\n--- MANIPULATOR CORRIDORS (With Overlap) ---\")\n",
        "for i, group in enumerate(corridors, 1):\n",
        "    print(f\"  M{i}: Baths {group}\")\n",
        "\n",
        "# Schedule product path\n",
        "print(\"\\n--- PRODUCT PATH SCHEDULE ---\")\n",
        "print(\"   Step | From → To   |  Time Used (s)\")\n",
        "print(\"--------------------------------------\")\n",
        "path = [0] + recipe[\"id_vany\"].tolist() + [100]\n",
        "time = 0\n",
        "for i in range(1, len(path)):\n",
        "    a, b = path[i-1], path[i]\n",
        "    t = matrix.loc[a, b]\n",
        "    print(f\"{i:7} | {a:>4} → {b:<4}  | {time:6.1f} → {time + t:6.1f}\")\n",
        "    time += t\n",
        "\n",
        "# Cyclic manipulator paths\n",
        "print(\"\\n--- CYCLIC SCHEDULE PER MANIPULATOR ---\")\n",
        "print(\"   Manip | From → To   |  Start → End   \")\n",
        "print(\"----------------------------------------\")\n",
        "\n",
        "for idx, group in enumerate(corridors):\n",
        "    manip = f\"M{idx+1}\"\n",
        "    if len(group) < 2:\n",
        "        continue\n",
        "    t = 0\n",
        "    path = group.copy()\n",
        "    for i in range(1, len(path)):\n",
        "        a, b = path[i-1], path[i]\n",
        "        move_t = matrix.loc[a, b]\n",
        "        print(f\"{manip:>8} | {a:>4} → {b:<4}  | {t:6.1f} → {t + move_t:6.1f}\")\n",
        "        t += move_t\n",
        "    back = matrix.loc[path[-1], path[0]]\n",
        "    print(f\"{manip:>8} | {path[-1]:>4} → {path[0]:<4}  | {t:6.1f} → {t + back:6.1f}\")\n"
      ],
      "metadata": {
        "id": "z1u79vJ8OAo7"
      },
      "execution_count": null,
      "outputs": []
    }
  ]
}