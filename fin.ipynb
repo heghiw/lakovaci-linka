{
  "nbformat": 4,
  "nbformat_minor": 0,
  "metadata": {
    "colab": {
      "provenance": [],
      "authorship_tag": "ABX9TyOJrudTStEBMhbculcWD+Hq",
      "include_colab_link": true
    },
    "kernelspec": {
      "name": "python3",
      "display_name": "Python 3"
    },
    "language_info": {
      "name": "python"
    }
  },
  "cells": [
    {
      "cell_type": "markdown",
      "metadata": {
        "id": "view-in-github",
        "colab_type": "text"
      },
      "source": [
        "<a href=\"https://colab.research.google.com/github/heghiw/lakovaci-linka/blob/main/fin.ipynb\" target=\"_parent\"><img src=\"https://colab.research.google.com/assets/colab-badge.svg\" alt=\"Open In Colab\"/></a>"
      ]
    },
    {
      "cell_type": "code",
      "source": [
        "!pip install pulp\n",
        "import pandas as pd\n",
        "\n",
        "\n",
        "import pandas as pd\n",
        "import numpy as np\n",
        "import pulp"
      ],
      "metadata": {
        "colab": {
          "base_uri": "https://localhost:8080/"
        },
        "id": "ZQRj8-2310eo",
        "outputId": "ed33cb95-9a00-4708-9956-b8e5112f1955"
      },
      "execution_count": 1,
      "outputs": [
        {
          "output_type": "stream",
          "name": "stdout",
          "text": [
            "Collecting pulp\n",
            "  Downloading pulp-3.1.1-py3-none-any.whl.metadata (1.3 kB)\n",
            "Downloading pulp-3.1.1-py3-none-any.whl (16.4 MB)\n",
            "\u001b[2K   \u001b[90m━━━━━━━━━━━━━━━━━━━━━━━━━━━━━━━━━━━━━━━━\u001b[0m \u001b[32m16.4/16.4 MB\u001b[0m \u001b[31m20.4 MB/s\u001b[0m eta \u001b[36m0:00:00\u001b[0m\n",
            "\u001b[?25hInstalling collected packages: pulp\n",
            "Successfully installed pulp-3.1.1\n"
          ]
        }
      ]
    },
    {
      "cell_type": "code",
      "source": [
        "# Remove the existing directory\n",
        "!rm -rf lakovaci-linka\n",
        "\n",
        "# Clone the repository again\n",
        "!git clone https://github.com/heghiw/lakovaci-linka.git\n",
        "\n",
        "# Navigate to the directory\n",
        "%cd lakovaci-linka\n"
      ],
      "metadata": {
        "colab": {
          "base_uri": "https://localhost:8080/"
        },
        "id": "Cp8IUFAwGq4h",
        "outputId": "ae7aa4e6-4be5-4c68-d766-3ffff15ebbd7"
      },
      "execution_count": 2,
      "outputs": [
        {
          "output_type": "stream",
          "name": "stdout",
          "text": [
            "Cloning into 'lakovaci-linka'...\n",
            "remote: Enumerating objects: 156, done.\u001b[K\n",
            "remote: Counting objects: 100% (63/63), done.\u001b[K\n",
            "remote: Compressing objects: 100% (26/26), done.\u001b[K\n",
            "remote: Total 156 (delta 53), reused 37 (delta 37), pack-reused 93 (from 1)\u001b[K\n",
            "Receiving objects: 100% (156/156), 9.63 MiB | 25.54 MiB/s, done.\n",
            "Resolving deltas: 100% (74/74), done.\n",
            "/content/lakovaci-linka\n"
          ]
        }
      ]
    },
    {
      "cell_type": "markdown",
      "source": [
        "data prep"
      ],
      "metadata": {
        "id": "08D8KthMHW1X"
      }
    },
    {
      "cell_type": "code",
      "source": [
        "# Define the path to the Excel file\n",
        "file_path = '/content/lakovaci-linka/data1.xlsx'\n",
        "\n",
        "# Read the sheet 'linka' into a DataFrame\n",
        "linka_df = pd.read_excel(file_path, sheet_name='linka')\n",
        "\n",
        "# Read the sheet 'recept' into a DataFrame\n",
        "recept_df = pd.read_excel(file_path, sheet_name='recept')\n",
        "\n",
        "print(\"Linka:\")\n",
        "print(linka_df)\n",
        "print(\"\\nRecepty:\")\n",
        "print(recept_df)"
      ],
      "metadata": {
        "colab": {
          "base_uri": "https://localhost:8080/"
        },
        "id": "J8oJ_fs2HWT6",
        "outputId": "219b9ccc-74a1-4bf0-9725-20af8579a6a1",
        "collapsed": true
      },
      "execution_count": 3,
      "outputs": [
        {
          "output_type": "stream",
          "name": "stdout",
          "text": [
            "Linka:\n",
            "             typ vany  id_vany   pozice_x_rel  pozice_x_cum\n",
            "0               vstup         0           0.0           0.0\n",
            "1        Teplý oplach         1        2300.0        2300.0\n",
            "2             Postřik         2        1900.0        4200.0\n",
            "3    Ponor odm železo         3        1900.0        6100.0\n",
            "4    Ponor odm pozink         4        1800.0        7900.0\n",
            "5            oplach 1         5        1800.0        9700.0\n",
            "6            oplach 2         6        1800.0       11500.0\n",
            "7       Moření železo         7        1800.0       13300.0\n",
            "8       Moření pozink         8        1800.0       15100.0\n",
            "9      Oplach moř žel         9        1800.0       16900.0\n",
            "10  Oplach moř pozink        10        1800.0       18700.0\n",
            "11    oplach společný        11        1800.0       20500.0\n",
            "12           aktivace        12        1800.0       22300.0\n",
            "13             fosfát        13        1800.0       24100.0\n",
            "14             oplach        14        1800.0       25900.0\n",
            "15            Oplach         21        1800.0       27700.0\n",
            "16           pasivace        15        1800.0       29500.0\n",
            "17        demi oplach        16        1800.0       31300.0\n",
            "18                KTL        17        2300.0       33600.0\n",
            "19                UF1        18        2300.0       35900.0\n",
            "20                UF2        19        1800.0       37700.0\n",
            "21               Demi        20        1800.0       39500.0\n",
            "22            vystup        100        2300.0       41800.0\n",
            "23             vozik        500           NaN           NaN\n",
            "\n",
            "Recepty:\n",
            "     tech  id_vany  poradi_operace  cas_min  cas_max  cas_opt  okap  okap_cas\n",
            "0   tech1        0               1        0        0        0     0         0\n",
            "1   tech1        1               2       90      180      120     1        20\n",
            "2   tech1        2               3      120      180      160     0         0\n",
            "3   tech1        3               4      180      240      220     1        20\n",
            "4   tech1        5               5       45      120       60     1        15\n",
            "5   tech1        6               6       45      120       60     1        15\n",
            "6   tech1        7               7      420      500      480     1        20\n",
            "7   tech1        9               8       45       75       60     1        15\n",
            "8   tech1       11               9       45       75       60     1        15\n",
            "9   tech1       12              10       60      120       90     1        20\n",
            "10  tech1       13              11      300      360      330     1        20\n",
            "11  tech1       14              12       60       90       75     1        15\n",
            "12  tech1       21              13       60       90       75     1        15\n",
            "13  tech1       15              14       60      120       90     1        20\n",
            "14  tech1       16              15       60       90       75     1        15\n",
            "15  tech1       17              16      180      260      220     1        20\n",
            "16  tech1       18              17       60      120       90     1         1\n",
            "17  tech1       19              18       60      120       90     1         1\n",
            "18  tech1       20              19       60      120       90     1         1\n",
            "19  tech1      100              20        0        0        0     0         0\n",
            "20  tech2        0               1        0        0        0     0         0\n",
            "21  tech2        1               2       90      180      120     1        20\n",
            "22  tech2        2               3      120      180      160     0         0\n",
            "23  tech2        3               4      180      240      220     1        20\n",
            "24  tech2        5               5       45      120       60     1        15\n",
            "25  tech2        6               6       45      120       60     1        15\n",
            "26  tech2       11               7       45       75       60     1        15\n",
            "27  tech2       12               8      120      180      160     1        20\n",
            "28  tech2       13               9      300      360      330     1        20\n",
            "29  tech2       14              10       60       90       75     1        15\n",
            "30  tech2       21              11       60       90       75     1        15\n",
            "31  tech2       15              12       60      120       90     1        20\n",
            "32  tech2       16              13       60       90       75     1        15\n",
            "33  tech2       17              14      180      260      220     1        20\n",
            "34  tech2       18              15       60      120       90     1         1\n",
            "35  tech2       19              16       60      120       90     1         1\n",
            "36  tech2       20              17       60      120       90     1         1\n",
            "37  tech2      100              18        0        0        0     0         0\n",
            "38  tech3        0               1        0        0        0     0         0\n",
            "39  tech3        1               2       90      180      120     1        20\n",
            "40  tech3        2               3       60      120       90     0         0\n",
            "41  tech3        4               4       60      120       90     1        20\n",
            "42  tech3        5               5       45      120       60     1        15\n",
            "43  tech3        6               6       45      120       60     1        15\n",
            "44  tech3        8               7       90      150      120     1        20\n",
            "45  tech3       10               8       45       75       60     1        15\n",
            "46  tech3       11               9       45       75       60     1        15\n",
            "47  tech3       12              10      120      180      160     1        20\n",
            "48  tech3       13              11      300      360      330     1        20\n",
            "49  tech3       14              12       60       90       75     1        15\n",
            "50  tech3       21              13       60       90       75     1        15\n",
            "51  tech3       15              14       60      120       90     1        20\n",
            "52  tech3       16              15       60       90       75     1        15\n",
            "53  tech3       17              16      180      260      220     1        20\n",
            "54  tech3       18              17       60      120       90     1         1\n",
            "55  tech3       19              18       60      120       90     1         1\n",
            "56  tech3       20              19       60      120       90     1         1\n",
            "57  tech3      100              20        0        0        0     0         0\n"
          ]
        }
      ]
    },
    {
      "cell_type": "markdown",
      "source": [
        "manipulator and vozik characteristics"
      ],
      "metadata": {
        "id": "CRn8ooFqOxhr"
      }
    },
    {
      "cell_type": "code",
      "source": [
        "manipulator_characteristics = {\n",
        "        \"okap_point\": 2000,\n",
        "        \"highest_point\": 2750,\n",
        "        \"deceleration_point\": 500,\n",
        "        \"speed_after_ponoreni\": 8,\n",
        "        \"speed_going_up\": 15,\n",
        "        \"speed_going_down\": 12,\n",
        "        \"speed_left_right\": 35\n",
        "    }"
      ],
      "metadata": {
        "id": "1d0tHwv-hVMU"
      },
      "execution_count": 4,
      "outputs": []
    },
    {
      "cell_type": "code",
      "source": [
        "linka_df.columns = linka_df.columns.str.strip()\n",
        "recept_df.columns = recept_df.columns.str.strip()\n",
        "print(linka_df.columns)\n",
        "print(recept_df.columns)"
      ],
      "metadata": {
        "id": "bYHCTFpJWZXS",
        "outputId": "a1d8bc76-4562-4db2-c961-89e7502447f0",
        "colab": {
          "base_uri": "https://localhost:8080/"
        }
      },
      "execution_count": 5,
      "outputs": [
        {
          "output_type": "stream",
          "name": "stdout",
          "text": [
            "Index(['typ vany', 'id_vany', 'pozice_x_rel', 'pozice_x_cum'], dtype='object')\n",
            "Index(['tech', 'id_vany', 'poradi_operace', 'cas_min', 'cas_max', 'cas_opt',\n",
            "       'okap', 'okap_cas'],\n",
            "      dtype='object')\n"
          ]
        }
      ]
    },
    {
      "cell_type": "markdown",
      "source": [
        "### Transition Matrix Definition\n",
        "\n",
        "We define the transition time matrix \\( T \\in \\mathbb{R}^{n \\times n} \\) as:\n",
        "\n",
        "\\[\n",
        "T_{i,j} =\n",
        "\\begin{cases}\n",
        "\\text{dwell}_j, & \\text{if } i = j \\quad \\text{(product dwell)} \\\\\\\\\n",
        "\\text{move}(i, j) + \\text{lower} + \\text{raise}(j), & \\text{if } i < j \\quad \\text{(product forward move)} \\\\\\\\\n",
        "\\text{move}(i, j), & \\text{if } i > j \\quad \\text{(empty/utility move)}\n",
        "\\end{cases}\n",
        "\\]\n",
        "\n",
        "---\n",
        "\n",
        "### Vertical Raise Logic\n",
        "\n",
        "\\[\n",
        "\\text{raise}(j) =\n",
        "\\begin{cases}\n",
        "\\displaystyle\n",
        "\\frac{h_\\text{bottom} - h_\\text{okap}}{v_\\text{up}} + t_\\text{okap} + \\frac{h_\\text{okap} - h_\\text{top}}{v_\\text{up}}, & \\text{if okap}_j = 1 \\\\\\\\\n",
        "\\displaystyle\n",
        "\\frac{h_\\text{bottom} - h_\\text{top}}{v_\\text{up}}, & \\text{if okap}_j = 0\n",
        "\\end{cases}\n",
        "\\]\n",
        "\n",
        "---\n",
        "\n",
        "### Vertical and Horizontal Movement\n",
        "\n",
        "\\[\n",
        "\\text{lower} = \\frac{h_\\text{top} - h_\\text{bottom}}{v_\\text{down}}, \\quad\n",
        "\\text{move}(i, j) = \\frac{|x_j - x_i|}{v_\\text{horizontal}}\n",
        "\\]\n",
        "\n",
        "---\n",
        "\n",
        "### Parameters from Simulation\n",
        "\n",
        "- \\( h_\\text{top} = 2750 \\,\\text{mm} \\)\n",
        "- \\( h_\\text{okap} = 2000 \\,\\text{mm} \\)\n",
        "- \\( h_\\text{bottom} = 0 \\,\\text{mm} \\)\n",
        "- \\( v_\\text{horizontal} = 35 \\,\\text{m/min} \\)\n",
        "- \\( v_\\text{down} = 12 \\,\\text{m/min} \\)\n",
        "- \\( v_\\text{up} = 15 \\,\\text{m/min} \\)\n",
        "- \\( t_\\text{okap} \\): pause time at okap height (from recipe)\n",
        "- \\( \\text{okap}_j \\): indicator whether okap is required at bath \\( j \\)\n"
      ],
      "metadata": {
        "id": "m1jQG-lGlX7B"
      }
    },
    {
      "cell_type": "code",
      "source": [
        "import pandas as pd\n",
        "import numpy as np\n",
        "from scipy.stats import truncnorm\n",
        "import math\n",
        "\n",
        "# ---- CONFIG ----\n",
        "manipulator_characteristics = {\n",
        "    \"okap_point\": 2000,\n",
        "    \"highest_point\": 2750,\n",
        "    \"deceleration_point\": 500,\n",
        "    \"speed_after_ponoreni\": 8,\n",
        "    \"speed_going_up\": 15,\n",
        "    \"speed_going_down\": 12,\n",
        "    \"speed_left_right\": 35\n",
        "}\n",
        "\n",
        "# ---- HELPER FUNCTIONS ----\n",
        "\n",
        "def get_distance(x1, x2):\n",
        "    return abs(x1 - x2)\n",
        "\n",
        "def vertical_time(down=True, okap_time=0):\n",
        "    mc = manipulator_characteristics\n",
        "    if down:\n",
        "        distance = mc[\"highest_point\"]\n",
        "        speed = mc[\"speed_going_down\"]\n",
        "        return (distance / 1000) / (speed / 60)\n",
        "    else:\n",
        "        h1 = (mc[\"highest_point\"] - mc[\"okap_point\"]) / 1000\n",
        "        h2 = mc[\"okap_point\"] / 1000\n",
        "        v_up = mc[\"speed_going_up\"] / 60  # m/s\n",
        "        return (h1 / v_up) + okap_time + (h2 / v_up)\n",
        "\n",
        "def horizontal_time(pos1, pos2):\n",
        "    dist = get_distance(pos1, pos2)\n",
        "    return (dist / 1000) / (manipulator_characteristics[\"speed_left_right\"] / 60)\n",
        "\n",
        "def sample_dwell(row):\n",
        "    a, b, mu = row[\"cas_min\"], row[\"cas_max\"], row[\"cas_opt\"]\n",
        "    if b <= a or np.isnan(a) or np.isnan(b) or np.isnan(mu):\n",
        "        return mu\n",
        "    sigma = (b - a) / 6\n",
        "    return truncnorm((a - mu) / sigma, (b - mu) / sigma, loc=mu, scale=sigma).rvs()\n",
        "\n",
        "# ---- MAIN LOGIC ----\n",
        "\n",
        "# Filter valid bath positions\n",
        "valid_linka_df = linka_df.dropna(subset=[\"pozice_x_rel\", \"pozice_x_cum\"]).copy()\n",
        "valid_linka_df[\"id_vany\"] = valid_linka_df[\"id_vany\"].astype(int)\n",
        "\n",
        "# Build position map\n",
        "linka_positions = valid_linka_df.set_index(\"id_vany\")[\"pozice_x_cum\"].to_dict()\n",
        "\n",
        "# Set vstup at 0 if not present\n",
        "linka_positions[0] = 0\n",
        "\n",
        "# If vystup not in linka_df, estimate it as just past last bath\n",
        "if 100 not in linka_positions:\n",
        "    linka_positions[100] = valid_linka_df[\"pozice_x_cum\"].max()\n",
        "# Collect bath IDs\n",
        "all_baths = [0] + list(valid_linka_df[\"id_vany\"].unique()) + [100]\n",
        "\n",
        "# Prompt user\n",
        "tech = input(\"Enter technology (e.g., 'tech0' but not tech0): \").strip()\n",
        "recipe = recept_df[recept_df.tech == tech].copy().sort_values(\"poradi_operace\")\n",
        "\n",
        "# Sample dwell and okap times\n",
        "dwell_times = {row.id_vany: sample_dwell(row) for _, row in recipe.iterrows()}\n",
        "dwell_times[0] = 0\n",
        "dwell_times[100] = 0\n",
        "okap_time_dict = {row.id_vany: row.okap_cas if row.okap else 0 for _, row in recipe.iterrows()}\n",
        "okap_time_dict[0] = 0\n",
        "okap_time_dict[100] = 0\n",
        "\n",
        "# Build recipe transition pairs\n",
        "recipe_steps = recipe[\"id_vany\"].tolist()\n",
        "recipe_pairs = list(zip(recipe_steps[:-1], recipe_steps[1:]))\n",
        "\n",
        "# ---- TRANSITION MATRIX ----\n",
        "matrix = pd.DataFrame(index=all_baths, columns=all_baths, dtype=float)\n",
        "\n",
        "for i in all_baths:\n",
        "    for j in all_baths:\n",
        "        pos_i = linka_positions.get(i, 0)\n",
        "        pos_j = linka_positions.get(j, 0)\n",
        "\n",
        "        if i == j:\n",
        "            matrix.loc[i, j] = dwell_times.get(i, 0)\n",
        "        elif (i, j) in recipe_pairs:\n",
        "            okap_time = okap_time_dict.get(i, 0)\n",
        "            move = (\n",
        "                vertical_time(down=True)\n",
        "                + okap_time\n",
        "                + horizontal_time(pos_i, pos_j)\n",
        "                + vertical_time(down=False)\n",
        "                + vertical_time(down=True)\n",
        "                + vertical_time(down=False)\n",
        "            )\n",
        "            matrix.loc[i, j] = move\n",
        "        else:\n",
        "            matrix.loc[i, j] = horizontal_time(pos_i, pos_j)\n",
        "\n",
        "# Clean duplicate column/index names if any\n",
        "matrix = matrix.loc[:, ~matrix.columns.duplicated()]\n",
        "matrix = matrix.loc[~matrix.index.duplicated(keep='first')]\n",
        "\n",
        "# ---- OUTPUT ----\n",
        "print(f\"\\n--- TRANSITION MATRIX (Cleaned) for {tech} ---\")\n",
        "print(matrix.round(1).to_string())\n"
      ],
      "metadata": {
        "id": "q7y50FHVvVRK",
        "outputId": "cc6fd9cf-2e97-4be5-d154-db081076768b",
        "colab": {
          "base_uri": "https://localhost:8080/"
        }
      },
      "execution_count": 12,
      "outputs": [
        {
          "output_type": "stream",
          "name": "stdout",
          "text": [
            "Enter technology (e.g., 'tech0' but not tech0): tech1\n",
            "\n",
            "--- TRANSITION MATRIX (Cleaned) for tech1 ---\n",
            "      0      1      2      3     4     5     6      7     8     9     10    11     12     13    14    21    15    16     17    18     19     20    100\n",
            "0     0.0   53.4    7.2   10.5  13.5  16.6  19.7   22.8  25.9  29.0  32.1  35.1   38.2   41.3  44.4  47.5  50.6  53.7   57.6  61.5   64.6   67.7  71.7\n",
            "1     3.9  136.7   72.8    6.5   9.6  12.7  15.8   18.9  21.9  25.0  28.1  31.2   34.3   37.4  40.5  43.5  46.6  49.7   53.7  57.6   60.7   63.8  67.7\n",
            "2     7.2    3.3  178.6   52.8   6.3   9.4  12.5   15.6  18.7  21.8  24.9  27.9   31.0   34.1  37.2  40.3  43.4  46.5   50.4  54.3   57.4   60.5  64.5\n",
            "3    10.5    6.5    3.3  205.7   3.1  75.7   9.3   12.3  15.4  18.5  21.6  24.7   27.8   30.9  33.9  37.0  40.1  43.2   47.1  51.1   54.2   57.3  61.2\n",
            "4    13.5    9.6    6.3    3.1   0.0   3.1   6.2    9.3  12.3  15.4  18.5  21.6   24.7   27.8  30.9  33.9  37.0  40.1   44.1  48.0   51.1   54.2  58.1\n",
            "5    16.6   12.7    9.4    6.2   3.1  59.8  67.6    6.2   9.3  12.3  15.4  18.5   21.6   24.7  27.8  30.9  33.9  37.0   41.0  44.9   48.0   51.1  55.0\n",
            "6    19.7   15.8   12.5    9.3   6.2   3.1  57.6   67.6   6.2   9.3  12.3  15.4   18.5   21.6  24.7  27.8  30.9  33.9   37.9  41.8   44.9   48.0  51.9\n",
            "7    22.8   18.9   15.6   12.3   9.3   6.2   3.1  460.1   3.1  75.7   9.3  12.3   15.4   18.5  21.6  24.7  27.8  30.9   34.8  38.7   41.8   44.9  48.9\n",
            "8    25.9   21.9   18.7   15.4  12.3   9.3   6.2    3.1   0.0   3.1   6.2   9.3   12.3   15.4  18.5  21.6  24.7  27.8   31.7  35.7   38.7   41.8  45.8\n",
            "9    29.0   25.0   21.8   18.5  15.4  12.3   9.3    6.2   3.1  58.4   3.1  70.7    9.3   12.3  15.4  18.5  21.6  24.7   28.6  32.6   35.7   38.7  42.7\n",
            "10   32.1   28.1   24.9   21.6  18.5  15.4  12.3    9.3   6.2   3.1   0.0   3.1    6.2    9.3  12.3  15.4  18.5  21.6   25.5  29.5   32.6   35.7  39.6\n",
            "11   35.1   31.2   27.9   24.7  21.6  18.5  15.4   12.3   9.3   6.2   3.1  59.3   67.6    6.2   9.3  12.3  15.4  18.5   22.5  26.4   29.5   32.6  36.5\n",
            "12   38.2   34.3   31.0   27.8  24.7  21.6  18.5   15.4  12.3   9.3   6.2   3.1  100.2   72.6   6.2   9.3  12.3  15.4   19.4  23.3   26.4   29.5  33.4\n",
            "13   41.3   37.4   34.1   30.9  27.8  24.7  21.6   18.5  15.4  12.3   9.3   6.2    3.1  336.1  72.6   6.2   9.3  12.3   16.3  20.2   23.3   26.4  30.3\n",
            "14   44.4   40.5   37.2   33.9  30.9  27.8  24.7   21.6  18.5  15.4  12.3   9.3    6.2    3.1  76.1  67.6   6.2   9.3   13.2  17.1   20.2   23.3  27.3\n",
            "21   47.5   43.5   40.3   37.0  33.9  30.9  27.8   24.7  21.6  18.5  15.4  12.3    9.3    6.2   3.1  73.2  67.6   6.2   10.1  14.1   17.1   20.2  24.2\n",
            "15   50.6   46.6   43.4   40.1  37.0  33.9  30.9   27.8  24.7  21.6  18.5  15.4   12.3    9.3   6.2   3.1  84.0  72.6    7.0  11.0   14.1   17.1  21.1\n",
            "16   53.7   49.7   46.5   43.2  40.1  37.0  33.9   30.9  27.8  24.7  21.6  18.5   15.4   12.3   9.3   6.2   3.1  66.5   68.4   7.9   11.0   14.1  18.0\n",
            "17   57.6   53.7   50.4   47.1  44.1  41.0  37.9   34.8  31.7  28.6  25.5  22.5   19.4   16.3  13.2  10.1   7.0   3.9  205.5  73.4    7.0   10.1  14.1\n",
            "18   61.5   57.6   54.3   51.1  48.0  44.9  41.8   38.7  35.7  32.6  29.5  26.4   23.3   20.2  17.1  14.1  11.0   7.9    3.9  95.3   53.6    6.2  10.1\n",
            "19   64.6   60.7   57.4   54.2  51.1  48.0  44.9   41.8  38.7  35.7  32.6  29.5   26.4   23.3  20.2  17.1  14.1  11.0    7.0   3.1  102.9   53.6   7.0\n",
            "20   67.7   63.8   60.5   57.3  54.2  51.1  48.0   44.9  41.8  38.7  35.7  32.6   29.5   26.4  23.3  20.2  17.1  14.1   10.1   6.2    3.1  107.1  54.4\n",
            "100  71.7   67.7   64.5   61.2  58.1  55.0  51.9   48.9  45.8  42.7  39.6  36.5   33.4   30.3  27.3  24.2  21.1  18.0   14.1  10.1    7.0    3.9   0.0\n"
          ]
        }
      ]
    }
  ]
}