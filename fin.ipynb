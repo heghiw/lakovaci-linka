{
  "nbformat": 4,
  "nbformat_minor": 0,
  "metadata": {
    "colab": {
      "provenance": [],
      "authorship_tag": "ABX9TyOywEFE9om4qC0hahA/+xAR",
      "include_colab_link": true
    },
    "kernelspec": {
      "name": "python3",
      "display_name": "Python 3"
    },
    "language_info": {
      "name": "python"
    }
  },
  "cells": [
    {
      "cell_type": "markdown",
      "metadata": {
        "id": "view-in-github",
        "colab_type": "text"
      },
      "source": [
        "<a href=\"https://colab.research.google.com/github/heghiw/lakovaci-linka/blob/main/fin.ipynb\" target=\"_parent\"><img src=\"https://colab.research.google.com/assets/colab-badge.svg\" alt=\"Open In Colab\"/></a>"
      ]
    },
    {
      "cell_type": "code",
      "source": [
        "!pip install pulp\n",
        "import pandas as pd\n",
        "\n",
        "\n",
        "import pandas as pd\n",
        "import numpy as np\n",
        "import pulp"
      ],
      "metadata": {
        "colab": {
          "base_uri": "https://localhost:8080/"
        },
        "id": "ZQRj8-2310eo",
        "outputId": "4bca22bb-f410-4dca-b447-c1bda1fec6b6"
      },
      "execution_count": 3,
      "outputs": [
        {
          "output_type": "stream",
          "name": "stdout",
          "text": [
            "Collecting pulp\n",
            "  Downloading pulp-3.1.1-py3-none-any.whl.metadata (1.3 kB)\n",
            "Downloading pulp-3.1.1-py3-none-any.whl (16.4 MB)\n",
            "\u001b[2K   \u001b[90m━━━━━━━━━━━━━━━━━━━━━━━━━━━━━━━━━━━━━━━━\u001b[0m \u001b[32m16.4/16.4 MB\u001b[0m \u001b[31m43.9 MB/s\u001b[0m eta \u001b[36m0:00:00\u001b[0m\n",
            "\u001b[?25hInstalling collected packages: pulp\n",
            "Successfully installed pulp-3.1.1\n"
          ]
        }
      ]
    },
    {
      "cell_type": "code",
      "source": [
        "# Remove the existing directory\n",
        "!rm -rf lakovaci-linka\n",
        "\n",
        "# Clone the repository again\n",
        "!git clone https://github.com/heghiw/lakovaci-linka.git\n",
        "\n",
        "# Navigate to the directory\n",
        "%cd lakovaci-linka\n"
      ],
      "metadata": {
        "colab": {
          "base_uri": "https://localhost:8080/"
        },
        "id": "Cp8IUFAwGq4h",
        "outputId": "933f9dfc-650c-4398-fddc-40d267f5af43"
      },
      "execution_count": 4,
      "outputs": [
        {
          "output_type": "stream",
          "name": "stdout",
          "text": [
            "Cloning into 'lakovaci-linka'...\n",
            "remote: Enumerating objects: 124, done.\u001b[K\n",
            "remote: Counting objects: 100% (124/124), done.\u001b[K\n",
            "remote: Compressing objects: 100% (119/119), done.\u001b[K\n",
            "remote: Total 124 (delta 56), reused 0 (delta 0), pack-reused 0 (from 0)\u001b[K\n",
            "Receiving objects: 100% (124/124), 9.61 MiB | 17.26 MiB/s, done.\n",
            "Resolving deltas: 100% (56/56), done.\n",
            "/content/lakovaci-linka\n"
          ]
        }
      ]
    },
    {
      "cell_type": "markdown",
      "source": [
        "data prep"
      ],
      "metadata": {
        "id": "08D8KthMHW1X"
      }
    },
    {
      "cell_type": "code",
      "source": [
        "# Define the path to the Excel file\n",
        "file_path = '/content/lakovaci-linka/data1.xlsx'\n",
        "\n",
        "# Read the sheet 'linka' into a DataFrame\n",
        "linka_df = pd.read_excel(file_path, sheet_name='linka')\n",
        "\n",
        "# Read the sheet 'recept' into a DataFrame\n",
        "recept_df = pd.read_excel(file_path, sheet_name='recept')\n",
        "\n",
        "print(\"Linka:\")\n",
        "print(linka_df)\n",
        "print(\"\\nRecepty:\")\n",
        "print(recept_df)"
      ],
      "metadata": {
        "colab": {
          "base_uri": "https://localhost:8080/"
        },
        "id": "J8oJ_fs2HWT6",
        "outputId": "d39e54dc-2f67-4def-eb26-cceb225d7222",
        "collapsed": true
      },
      "execution_count": 5,
      "outputs": [
        {
          "output_type": "stream",
          "name": "stdout",
          "text": [
            "Linka:\n",
            "             typ vany  id_vany   pozice_x_rel  pozice_x_cum\n",
            "0               vstup         0           0.0           0.0\n",
            "1        Teplý oplach         1        2300.0        2300.0\n",
            "2             Postřik         2        1900.0        4200.0\n",
            "3    Ponor odm železo         3        1900.0        6100.0\n",
            "4    Ponor odm pozink         4        1800.0        7900.0\n",
            "5            oplach 1         5        1800.0        9700.0\n",
            "6            oplach 2         6        1800.0       11500.0\n",
            "7       Moření železo         7        1800.0       13300.0\n",
            "8       Moření pozink         8        1800.0       15100.0\n",
            "9      Oplach moř žel         9        1800.0       16900.0\n",
            "10  Oplach moř pozink        10        1800.0       18700.0\n",
            "11    oplach společný        11        1800.0       20500.0\n",
            "12           aktivace        12        1800.0       22300.0\n",
            "13             fosfát        13        1800.0       24100.0\n",
            "14             oplach        14        1800.0       25900.0\n",
            "15            Oplach         21        1800.0       27700.0\n",
            "16           pasivace        15        1800.0       29500.0\n",
            "17        demi oplach        16        1800.0       31300.0\n",
            "18                KTL        17        2300.0       33600.0\n",
            "19                UF1        18        2300.0       35900.0\n",
            "20                UF2        19        1800.0       37700.0\n",
            "21               Demi        20        1800.0       39500.0\n",
            "22            vystup        100        2300.0       41800.0\n",
            "23             vozik        500           NaN           NaN\n",
            "\n",
            "Recepty:\n",
            "     tech  id_vany  poradi_operace  cas_min  cas_max  cas_opt  okap  okap_cas\n",
            "0   tech1        0               1        0        0        0     0         0\n",
            "1   tech1        1               2       90      180      120     1        20\n",
            "2   tech1        2               3      120      180      160     0         0\n",
            "3   tech1        3               4      180      240      220     1        20\n",
            "4   tech1        5               5       45      120       60     1        15\n",
            "5   tech1        6               6       45      120       60     1        15\n",
            "6   tech1        7               7      420      500      480     1        20\n",
            "7   tech1        9               8       45       75       60     1        15\n",
            "8   tech1       11               9       45       75       60     1        15\n",
            "9   tech1       12              10       60      120       90     1        20\n",
            "10  tech1       13              11      300      360      330     1        20\n",
            "11  tech1       14              12       60       90       75     1        15\n",
            "12  tech1       21              13       60       90       75     1        15\n",
            "13  tech1       15              14       60      120       90     1        20\n",
            "14  tech1       16              15       60       90       75     1        15\n",
            "15  tech1       17              16      180      260      220     1        20\n",
            "16  tech1       18              17       60      120       90     1         1\n",
            "17  tech1       19              18       60      120       90     1         1\n",
            "18  tech1       20              19       60      120       90     1         1\n",
            "19  tech1      100              20        0        0        0     0         0\n",
            "20  tech2        0               1        0        0        0     0         0\n",
            "21  tech2        1               2       90      180      120     1        20\n",
            "22  tech2        2               3      120      180      160     0         0\n",
            "23  tech2        3               4      180      240      220     1        20\n",
            "24  tech2        5               5       45      120       60     1        15\n",
            "25  tech2        6               6       45      120       60     1        15\n",
            "26  tech2       11               7       45       75       60     1        15\n",
            "27  tech2       12               8      120      180      160     1        20\n",
            "28  tech2       13               9      300      360      330     1        20\n",
            "29  tech2       14              10       60       90       75     1        15\n",
            "30  tech2       21              11       60       90       75     1        15\n",
            "31  tech2       15              12       60      120       90     1        20\n",
            "32  tech2       16              13       60       90       75     1        15\n",
            "33  tech2       17              14      180      260      220     1        20\n",
            "34  tech2       18              15       60      120       90     1         1\n",
            "35  tech2       19              16       60      120       90     1         1\n",
            "36  tech2       20              17       60      120       90     1         1\n",
            "37  tech2      100              18        0        0        0     0         0\n",
            "38  tech3        0               1        0        0        0     0         0\n",
            "39  tech3        1               2       90      180      120     1        20\n",
            "40  tech3        2               3       60      120       90     0         0\n",
            "41  tech3        4               4       60      120       90     1        20\n",
            "42  tech3        5               5       45      120       60     1        15\n",
            "43  tech3        6               6       45      120       60     1        15\n",
            "44  tech3        8               7       90      150      120     1        20\n",
            "45  tech3       10               8       45       75       60     1        15\n",
            "46  tech3       11               9       45       75       60     1        15\n",
            "47  tech3       12              10      120      180      160     1        20\n",
            "48  tech3       13              11      300      360      330     1        20\n",
            "49  tech3       14              12       60       90       75     1        15\n",
            "50  tech3       21              13       60       90       75     1        15\n",
            "51  tech3       15              14       60      120       90     1        20\n",
            "52  tech3       16              15       60       90       75     1        15\n",
            "53  tech3       17              16      180      260      220     1        20\n",
            "54  tech3       18              17       60      120       90     1         1\n",
            "55  tech3       19              18       60      120       90     1         1\n",
            "56  tech3       20              19       60      120       90     1         1\n",
            "57  tech3      100              20        0        0        0     0         0\n"
          ]
        }
      ]
    },
    {
      "cell_type": "markdown",
      "source": [
        "manipulator and vozik characteristics"
      ],
      "metadata": {
        "id": "CRn8ooFqOxhr"
      }
    },
    {
      "cell_type": "code",
      "source": [
        "manipulator_characteristics = {\n",
        "        \"okap_point\": 2000,\n",
        "        \"highest_point\": 2750,\n",
        "        \"deceleration_point\": 500,\n",
        "        \"speed_after_ponoreni\": 8,\n",
        "        \"speed_going_up\": 15,\n",
        "        \"speed_going_down\": 12,\n",
        "        \"speed_left_right\": 35\n",
        "    }"
      ],
      "metadata": {
        "id": "1d0tHwv-hVMU"
      },
      "execution_count": 6,
      "outputs": []
    },
    {
      "cell_type": "code",
      "source": [
        "linka_df.columns = linka_df.columns.str.strip()\n",
        "recept_df.columns = recept_df.columns.str.strip()\n",
        "print(linka_df.columns)\n",
        "print(recept_df.columns)"
      ],
      "metadata": {
        "id": "bYHCTFpJWZXS",
        "outputId": "106692c9-4095-44c6-9d23-3de71b4bb5f6",
        "colab": {
          "base_uri": "https://localhost:8080/"
        }
      },
      "execution_count": 7,
      "outputs": [
        {
          "output_type": "stream",
          "name": "stdout",
          "text": [
            "Index(['typ vany', 'id_vany', 'pozice_x_rel', 'pozice_x_cum'], dtype='object')\n",
            "Index(['tech', 'id_vany', 'poradi_operace', 'cas_min', 'cas_max', 'cas_opt',\n",
            "       'okap', 'okap_cas'],\n",
            "      dtype='object')\n"
          ]
        }
      ]
    },
    {
      "cell_type": "markdown",
      "source": [
        "simulace\n"
      ],
      "metadata": {
        "id": "IRhssJl0ccp4"
      }
    },
    {
      "cell_type": "code",
      "source": [
        "import pandas as pd\n",
        "import numpy as np\n",
        "from scipy.stats import truncnorm\n",
        "import math\n",
        "\n",
        "# ---- CONFIG ----\n",
        "manipulator_characteristics = {\n",
        "    \"okap_point\": 2000,\n",
        "    \"highest_point\": 2750,\n",
        "    \"deceleration_point\": 500,\n",
        "    \"speed_after_ponoreni\": 8,\n",
        "    \"speed_going_up\": 15,\n",
        "    \"speed_going_down\": 12,\n",
        "    \"speed_left_right\": 35\n",
        "}\n",
        "takt_limit = 300  # seconds\n",
        "\n",
        "# ---- HELPER FUNCTIONS ----\n",
        "\n",
        "def get_distance(x1, x2):\n",
        "    return abs(x1 - x2)\n",
        "\n",
        "def vertical_time(down=True, okap=False):\n",
        "    mc = manipulator_characteristics\n",
        "    distance = mc[\"highest_point\"]\n",
        "    if okap:\n",
        "        distance = mc[\"highest_point\"] - mc[\"okap_point\"]\n",
        "    speed = mc[\"speed_going_down\"] if down else mc[\"speed_going_up\"]\n",
        "    return (distance / 1000) / (speed / 60)\n",
        "\n",
        "def horizontal_time(pos1, pos2):\n",
        "    dist = get_distance(pos1, pos2)\n",
        "    return (dist / 1000) / (manipulator_characteristics[\"speed_left_right\"] / 60)\n",
        "\n",
        "def move_time(i, j, linka_df, okap_dict=None):\n",
        "    pos_i = linka_df.loc[i, \"pozice_x_cum\"] if i in linka_df.index else 0\n",
        "    pos_j = linka_df.loc[j, \"pozice_x_cum\"] if j in linka_df.index else 0\n",
        "    move = horizontal_time(pos_i, pos_j)\n",
        "    down = vertical_time(down=True, okap=okap_dict.get(j, False) if okap_dict else False)\n",
        "    up = vertical_time(down=False)\n",
        "    return move + down + up\n",
        "\n",
        "def sample_dwell(row):\n",
        "    a, b, mu = row[\"cas_min\"], row[\"cas_max\"], row[\"cas_opt\"]\n",
        "    if b <= a or np.isnan(a) or np.isnan(b) or np.isnan(mu):\n",
        "        return mu\n",
        "    sigma = (b - a) / 6\n",
        "    return truncnorm((a - mu) / sigma, (b - mu) / sigma, loc=mu, scale=sigma).rvs()\n",
        "\n",
        "# ---- MAIN LOGIC ----\n",
        "\n",
        "# Assume recept_df and linka_df are already loaded\n",
        "\n",
        "tech = input(\"Enter technology (e.g., 'tech1'): \").strip()\n",
        "recipe = recept_df[recept_df.tech == tech].copy()\n",
        "recipe = recipe.sort_values(\"poradi_operace\")\n",
        "\n",
        "# Include vstup (0) and vystup (100)\n",
        "recipe_baths = [0] + recipe[\"id_vany\"].tolist() + [100]\n",
        "all_baths = pd.DataFrame({'id_vany': recipe_baths}).drop_duplicates()\n",
        "\n",
        "# Map physical positions\n",
        "linka_positions = linka_df.set_index(\"id_vany\")[\"pozice_x_cum\"]\n",
        "all_baths[\"pozice_x_cum\"] = all_baths[\"id_vany\"].map(linka_positions).fillna(-1)\n",
        "all_baths.loc[all_baths[\"id_vany\"] == 0, \"pozice_x_cum\"] = -1000\n",
        "all_baths.loc[all_baths[\"id_vany\"] == 100, \"pozice_x_cum\"] = 100000\n",
        "unique_baths = all_baths.sort_values(\"pozice_x_cum\")[\"id_vany\"].tolist()\n",
        "\n",
        "# Sample dwell times\n",
        "dwell_times = {row.id_vany: sample_dwell(row) for _, row in recipe.iterrows()}\n",
        "dwell_times[0] = 0\n",
        "dwell_times[100] = 0\n",
        "\n",
        "# Okap info\n",
        "okap_dict = {row.id_vany: bool(row.okap) for _, row in recipe.iterrows()}\n",
        "okap_dict[0] = False\n",
        "okap_dict[100] = False\n",
        "\n",
        "# Transition Matrix\n",
        "matrix = pd.DataFrame(index=unique_baths, columns=unique_baths, dtype=float)\n",
        "for i in unique_baths:\n",
        "    for j in unique_baths:\n",
        "        if i == j:\n",
        "            matrix.loc[i, j] = dwell_times.get(i, 0)\n",
        "        else:\n",
        "            matrix.loc[i, j] = move_time(i, j, linka_df.set_index(\"id_vany\"), okap_dict)\n",
        "\n",
        "print(\"\\n--- TRANSITION MATRIX for\", tech, \"---\")\n",
        "print(matrix.round(1).to_string())\n",
        "\n",
        "# Manipulator count suggestion\n",
        "max_manips = len(unique_baths) - 1\n",
        "suggested = math.ceil(len(unique_baths) / 2)\n",
        "print(\"\\n✅ Suggested Manipulator Count:\", suggested)\n",
        "\n",
        "# Manual override\n",
        "user_input = input(\"Enter number of manipulators (or press Enter to use suggestion): \").strip()\n",
        "num_manips = suggested if not user_input else int(user_input)\n",
        "\n",
        "# Assign corridors based on strictly increasing pozice_x_cum (non-overlapping)\n",
        "corridors = []\n",
        "step = math.ceil(len(unique_baths) / num_manips)\n",
        "for i in range(0, len(unique_baths), step):\n",
        "    corridors.append(unique_baths[i:i + step])\n",
        "\n",
        "# Display safe manipulator corridor assignments\n",
        "print(\"\\n--- MANIPULATOR CORRIDORS (Safe, Non-overlapping) ---\")\n",
        "for i, group in enumerate(corridors, 1):\n",
        "    print(f\"  M{i}: Baths {group}\")\n",
        "\n",
        "# Schedule product through recipe path\n",
        "print(\"\\n--- PRODUCT PATH SCHEDULE ---\")\n",
        "print(\"   Step | From → To   |  Time Used (s)\")\n",
        "print(\"--------------------------------------\")\n",
        "path = [0] + recipe[\"id_vany\"].tolist() + [100]\n",
        "time = 0\n",
        "for i in range(1, len(path)):\n",
        "    a, b = path[i-1], path[i]\n",
        "    t = matrix.loc[a, b]\n",
        "    print(f\"{i:7} | {a:>4} → {b:<4}  | {time:6.1f} → {time + t:6.1f}\")\n",
        "    time += t\n",
        "\n",
        "# Optional: cyclic loop each manipulator operates (not enforcing recipe)\n",
        "print(\"\\n--- CYCLIC SCHEDULE PER MANIPULATOR ---\")\n",
        "print(\"   Manip | From → To   |  Start → End   \")\n",
        "print(\"----------------------------------------\")\n",
        "\n",
        "for idx, group in enumerate(corridors):\n",
        "    manip = f\"M{idx+1}\"\n",
        "    if len(group) < 2:\n",
        "        continue\n",
        "    t = 0\n",
        "    path = group.copy()\n",
        "    for i in range(1, len(path)):\n",
        "        a, b = path[i-1], path[i]\n",
        "        move_t = matrix.loc[a, b]\n",
        "        print(f\"{manip:>8} | {a:>4} → {b:<4}  | {t:6.1f} → {t + move_t:6.1f}\")\n",
        "        t += move_t\n",
        "    # Loop back to start\n",
        "    back = matrix.loc[path[-1], path[0]]\n",
        "    print(f\"{manip:>8} | {path[-1]:>4} → {path[0]:<4}  | {t:6.1f} → {t + back:6.1f}\")\n"
      ],
      "metadata": {
        "id": "fYGR8SXcgMsO",
        "outputId": "0757ff5a-e491-42de-aa11-b69fe61c9a5e",
        "colab": {
          "base_uri": "https://localhost:8080/"
        }
      },
      "execution_count": 10,
      "outputs": [
        {
          "output_type": "stream",
          "name": "stdout",
          "text": [
            "Enter technology (e.g., 'tech1'): tech1\n",
            "\n",
            "--- TRANSITION MATRIX for tech1 ---\n",
            "      0      1      2      3     5     6      7     9     11    12     13    14    21    15    16     17    18     19    20    100\n",
            "0     0.0   18.7   32.0   25.2  31.4  34.5   37.6  43.7  49.9  53.0   56.1  59.1  62.2  65.3  68.4   72.4  76.3   79.4  82.5  96.4\n",
            "1    28.7  120.7   28.0   21.3  27.4  30.5   33.6  39.8  45.9  49.0   52.1  55.2  58.3  61.4  64.5   68.4  72.4   75.4  78.5  92.5\n",
            "2    32.0   18.0  152.3   18.0  24.2  27.3   30.4  36.5  42.7  45.8   48.9  52.0  55.0  58.1  61.2   65.1  69.1   72.2  75.3  89.2\n",
            "3    35.2   21.3   28.0  210.8  20.9  24.0   27.1  33.3  39.4  42.5   45.6  48.7  51.8  54.9  58.0   61.9  65.8   68.9  72.0  86.0\n",
            "5    41.4   27.4   34.2   20.9  62.3  17.8   20.9  27.1  33.3  36.3   39.4  42.5  45.6  48.7  51.8   55.7  59.7   62.8  65.8  79.8\n",
            "6    44.5   30.5   37.3   24.0  17.8  66.8   17.8  24.0  30.2  33.3   36.3  39.4  42.5  45.6  48.7   52.6  56.6   59.7  62.8  76.7\n",
            "7    47.6   33.6   40.3   27.1  20.9  17.8  471.2  20.9  27.1  30.2   33.3  36.3  39.4  42.5  45.6   49.6  53.5   56.6  59.7  73.6\n",
            "9    53.7   39.8   46.5   33.3  27.1  24.0   20.9  66.7  20.9  24.0   27.1  30.2  33.3  36.3  39.4   43.4  47.3   50.4  53.5  67.4\n",
            "11   59.9   45.9   52.7   39.4  33.3  30.2   27.1  20.9  59.7  17.8   20.9  24.0  27.1  30.2  33.3   37.2  41.2   44.2  47.3  61.3\n",
            "12   63.0   49.0   55.8   42.5  36.3  33.3   30.2  24.0  17.8  91.3   17.8  20.9  24.0  27.1  30.2   34.1  38.1   41.2  44.2  58.2\n",
            "13   66.1   52.1   58.9   45.6  39.4  36.3   33.3  27.1  20.9  17.8  337.9  17.8  20.9  24.0  27.1   31.0  35.0   38.1  41.2  55.1\n",
            "14   69.1   55.2   62.0   48.7  42.5  39.4   36.3  30.2  24.0  20.9   17.8  88.4  17.8  20.9  24.0   28.0  31.9   35.0  38.1  52.0\n",
            "21   72.2   58.3   65.0   51.8  45.6  42.5   39.4  33.3  27.1  24.0   20.9  17.8  73.4  17.8  20.9   24.9  28.8   31.9  35.0  48.9\n",
            "15   75.3   61.4   68.1   54.9  48.7  45.6   42.5  36.3  30.2  27.1   24.0  20.9  17.8  88.9  17.8   21.8  25.7   28.8  31.9  45.8\n",
            "16   78.4   64.5   71.2   58.0  51.8  48.7   45.6  39.4  33.3  30.2   27.1  24.0  20.9  17.8  70.3   18.7  22.6   25.7  28.8  42.8\n",
            "17   82.4   68.4   75.1   61.9  55.7  52.6   49.6  43.4  37.2  34.1   31.0  28.0  24.9  21.8  18.7  208.4  18.7   21.8  24.9  38.8\n",
            "18   86.3   72.4   79.1   65.8  59.7  56.6   53.5  47.3  41.2  38.1   35.0  31.9  28.8  25.7  22.6   18.7  99.9   17.8  20.9  34.9\n",
            "19   89.4   75.4   82.2   68.9  62.8  59.7   56.6  50.4  44.2  41.2   38.1  35.0  31.9  28.8  25.7   21.8  17.8  111.1  17.8  31.8\n",
            "20   92.5   78.5   85.3   72.0  65.8  62.8   59.7  53.5  47.3  44.2   41.2  38.1  35.0  31.9  28.8   24.9  20.9   17.8  86.6  28.7\n",
            "100  96.4   82.5   89.2   76.0  69.8  66.7   63.6  57.4  51.3  48.2   45.1  42.0  38.9  35.8  32.8   28.8  24.9   21.8  18.7   0.0\n",
            "\n",
            "✅ Suggested Manipulator Count: 10\n",
            "Enter number of manipulators (or press Enter to use suggestion): 5\n",
            "\n",
            "--- MANIPULATOR CORRIDORS (Safe, Non-overlapping) ---\n",
            "  M1: Baths [0, 1, 2, 3]\n",
            "  M2: Baths [5, 6, 7, 9]\n",
            "  M3: Baths [11, 12, 13, 14]\n",
            "  M4: Baths [21, 15, 16, 17]\n",
            "  M5: Baths [18, 19, 20, 100]\n",
            "\n",
            "--- PRODUCT PATH SCHEDULE ---\n",
            "   Step | From → To   |  Time Used (s)\n",
            "--------------------------------------\n",
            "      1 |    0 → 0     |    0.0 →    0.0\n",
            "      2 |    0 → 1     |    0.0 →   18.7\n",
            "      3 |    1 → 2     |   18.7 →   46.7\n",
            "      4 |    2 → 3     |   46.7 →   64.7\n",
            "      5 |    3 → 5     |   64.7 →   85.6\n",
            "      6 |    5 → 6     |   85.6 →  103.5\n",
            "      7 |    6 → 7     |  103.5 →  121.3\n",
            "      8 |    7 → 9     |  121.3 →  142.2\n",
            "      9 |    9 → 11    |  142.2 →  163.1\n",
            "     10 |   11 → 12    |  163.1 →  181.0\n",
            "     11 |   12 → 13    |  181.0 →  198.8\n",
            "     12 |   13 → 14    |  198.8 →  216.7\n",
            "     13 |   14 → 21    |  216.7 →  234.5\n",
            "     14 |   21 → 15    |  234.5 →  252.3\n",
            "     15 |   15 → 16    |  252.3 →  270.2\n",
            "     16 |   16 → 17    |  270.2 →  288.9\n",
            "     17 |   17 → 18    |  288.9 →  307.5\n",
            "     18 |   18 → 19    |  307.5 →  325.4\n",
            "     19 |   19 → 20    |  325.4 →  343.2\n",
            "     20 |   20 → 100   |  343.2 →  371.9\n",
            "     21 |  100 → 100   |  371.9 →  371.9\n",
            "\n",
            "--- CYCLIC SCHEDULE PER MANIPULATOR ---\n",
            "   Manip | From → To   |  Start → End   \n",
            "----------------------------------------\n",
            "      M1 |    0 → 1     |    0.0 →   18.7\n",
            "      M1 |    1 → 2     |   18.7 →   46.7\n",
            "      M1 |    2 → 3     |   46.7 →   64.7\n",
            "      M1 |    3 → 0     |   64.7 →   99.9\n",
            "      M2 |    5 → 6     |    0.0 →   17.8\n",
            "      M2 |    6 → 7     |   17.8 →   35.7\n",
            "      M2 |    7 → 9     |   35.7 →   56.6\n",
            "      M2 |    9 → 5     |   56.6 →   83.7\n",
            "      M3 |   11 → 12    |    0.0 →   17.8\n",
            "      M3 |   12 → 13    |   17.8 →   35.7\n",
            "      M3 |   13 → 14    |   35.7 →   53.5\n",
            "      M3 |   14 → 11    |   53.5 →   77.5\n",
            "      M4 |   21 → 15    |    0.0 →   17.8\n",
            "      M4 |   15 → 16    |   17.8 →   35.7\n",
            "      M4 |   16 → 17    |   35.7 →   54.4\n",
            "      M4 |   17 → 21    |   54.4 →   79.2\n",
            "      M5 |   18 → 19    |    0.0 →   17.8\n",
            "      M5 |   19 → 20    |   17.8 →   35.7\n",
            "      M5 |   20 → 100   |   35.7 →   64.4\n",
            "      M5 |  100 → 18    |   64.4 →   89.2\n"
          ]
        }
      ]
    }
  ]
}