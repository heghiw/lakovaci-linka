{
  "nbformat": 4,
  "nbformat_minor": 0,
  "metadata": {
    "colab": {
      "provenance": [],
      "authorship_tag": "ABX9TyO5p2sIjVKWYb0l1E4umJBW",
      "include_colab_link": true
    },
    "kernelspec": {
      "name": "python3",
      "display_name": "Python 3"
    },
    "language_info": {
      "name": "python"
    }
  },
  "cells": [
    {
      "cell_type": "markdown",
      "metadata": {
        "id": "view-in-github",
        "colab_type": "text"
      },
      "source": [
        "<a href=\"https://colab.research.google.com/github/heghiw/lakovaci-linka/blob/main/fin.ipynb\" target=\"_parent\"><img src=\"https://colab.research.google.com/assets/colab-badge.svg\" alt=\"Open In Colab\"/></a>"
      ]
    },
    {
      "cell_type": "code",
      "source": [
        "# Remove the existing directory\n",
        "!rm -rf lakovaci-linka\n",
        "\n",
        "# Clone the repository again\n",
        "!git clone https://github.com/heghiw/lakovaci-linka.git\n",
        "\n",
        "# Navigate to the directory\n",
        "%cd lakovaci-linka\n"
      ],
      "metadata": {
        "colab": {
          "base_uri": "https://localhost:8080/"
        },
        "id": "Cp8IUFAwGq4h",
        "outputId": "479ac32d-e9c7-4c40-8549-e36907ec0b07"
      },
      "execution_count": 62,
      "outputs": [
        {
          "output_type": "stream",
          "name": "stdout",
          "text": [
            "Cloning into 'lakovaci-linka'...\n",
            "remote: Enumerating objects: 46, done.\u001b[K\n",
            "remote: Counting objects: 100% (46/46), done.\u001b[K\n",
            "remote: Compressing objects: 100% (45/45), done.\u001b[K\n",
            "remote: Total 46 (delta 18), reused 0 (delta 0), pack-reused 0 (from 0)\u001b[K\n",
            "Receiving objects: 100% (46/46), 9.24 MiB | 14.49 MiB/s, done.\n",
            "Resolving deltas: 100% (18/18), done.\n",
            "/content/lakovaci-linka/lakovaci-linka\n"
          ]
        }
      ]
    },
    {
      "cell_type": "markdown",
      "source": [
        "data prep"
      ],
      "metadata": {
        "id": "08D8KthMHW1X"
      }
    },
    {
      "cell_type": "code",
      "source": [
        "import pandas as pd\n",
        "\n",
        "# Define the path to the Excel file\n",
        "file_path = '/content/lakovaci-linka/data1.xlsx'\n",
        "\n",
        "# Read the sheet 'linka' into a DataFrame\n",
        "linka_df = pd.read_excel(file_path, sheet_name='linka')\n",
        "\n",
        "# Read the sheet 'recept' into a DataFrame\n",
        "recept_df = pd.read_excel(file_path, sheet_name='recept')\n",
        "\n",
        "print(\"Linka:\")\n",
        "print(linka_df)\n",
        "print(\"\\nRecepty:\")\n",
        "print(recept_df)\n",
        "\n"
      ],
      "metadata": {
        "colab": {
          "base_uri": "https://localhost:8080/"
        },
        "id": "J8oJ_fs2HWT6",
        "outputId": "5ec4862b-0d2f-40d2-fa6d-43023759f4e3",
        "collapsed": true
      },
      "execution_count": 63,
      "outputs": [
        {
          "output_type": "stream",
          "name": "stdout",
          "text": [
            "Linka:\n",
            "             typ vany  id_vany   pozice_x_rel  pozice_x_cum\n",
            "0               vstup         0           0.0           0.0\n",
            "1        Teplý oplach         1        2300.0        2300.0\n",
            "2             Postřik         2        1900.0        4200.0\n",
            "3    Ponor odm železo         3        1900.0        6100.0\n",
            "4    Ponor odm pozink         4        1800.0        7900.0\n",
            "5            oplach 1         5        1800.0        9700.0\n",
            "6            oplach 2         6        1800.0       11500.0\n",
            "7       Moření železo         7        1800.0       13300.0\n",
            "8       Moření pozink         8        1800.0       15100.0\n",
            "9      Oplach moř žel         9        1800.0       16900.0\n",
            "10  Oplach moř pozink        10        1800.0       18700.0\n",
            "11    oplach společný        11        1800.0       20500.0\n",
            "12           aktivace        12        1800.0       22300.0\n",
            "13             fosfát        13        1800.0       24100.0\n",
            "14             oplach        14        1800.0       25900.0\n",
            "15            Oplach         21        1800.0       27700.0\n",
            "16           pasivace        15        1800.0       29500.0\n",
            "17        demi oplach        16        1800.0       31300.0\n",
            "18                KTL        17        2300.0       33600.0\n",
            "19                UF1        18        2300.0       35900.0\n",
            "20                UF2        19        1800.0       37700.0\n",
            "21               Demi        20        1800.0       39500.0\n",
            "22            vystup        100        2300.0       41800.0\n",
            "23             vozik        500           NaN           NaN\n",
            "\n",
            "Recepty:\n",
            "     tech  id_vany  poradi_operace  cas_min  cas_max  cas_opt  okap  okap_cas\n",
            "0   tech1        0               1        0        0        0     0         0\n",
            "1   tech1        1               2       90      180      120     1        20\n",
            "2   tech1        2               3      120      180      160     0         0\n",
            "3   tech1        3               4      180      240      220     1        20\n",
            "4   tech1        5               5       45      120       60     1        15\n",
            "5   tech1        6               6       45      120       60     1        15\n",
            "6   tech1        7               7      420      500      480     1        20\n",
            "7   tech1        9               8       45       75       60     1        15\n",
            "8   tech1       11               9       45       75       60     1        15\n",
            "9   tech1       12              10       60      120       90     1        20\n",
            "10  tech1       13              11      300      360      330     1        20\n",
            "11  tech1       14              12       60       90       75     1        15\n",
            "12  tech1       21              13       60       90       75     1        15\n",
            "13  tech1       15              14       60      120       90     1        20\n",
            "14  tech1       16              15       60       90       75     1        15\n",
            "15  tech1       17              16      180      260      220     1        20\n",
            "16  tech1       18              17       60      120       90     1         1\n",
            "17  tech1       19              18       60      120       90     1         1\n",
            "18  tech1       20              19       60      120       90     1         1\n",
            "19  tech1      100              20        0        0        0     0         0\n",
            "20  tech2        0               1        0        0        0     0         0\n",
            "21  tech2        1               2       90      180      120     1        20\n",
            "22  tech2        2               3      120      180      160     0         0\n",
            "23  tech2        3               4      180      240      220     1        20\n",
            "24  tech2        5               5       45      120       60     1        15\n",
            "25  tech2        6               6       45      120       60     1        15\n",
            "26  tech2       11               7       45       75       60     1        15\n",
            "27  tech2       12               8      120      180      160     1        20\n",
            "28  tech2       13               9      300      360      330     1        20\n",
            "29  tech2       14              10       60       90       75     1        15\n",
            "30  tech2       21              11       60       90       75     1        15\n",
            "31  tech2       15              12       60      120       90     1        20\n",
            "32  tech2       16              13       60       90       75     1        15\n",
            "33  tech2       17              14      180      260      220     1        20\n",
            "34  tech2       18              15       60      120       90     1         1\n",
            "35  tech2       19              16       60      120       90     1         1\n",
            "36  tech2       20              17       60      120       90     1         1\n",
            "37  tech2      100              18        0        0        0     0         0\n",
            "38  tech3        0               1        0        0        0     0         0\n",
            "39  tech3        1               2       90      180      120     1        20\n",
            "40  tech3        2               3       60      120       90     0         0\n",
            "41  tech3        4               4       60      120       90     1        20\n",
            "42  tech3        5               5       45      120       60     1        15\n",
            "43  tech3        6               6       45      120       60     1        15\n",
            "44  tech3        8               7       90      150      120     1        20\n",
            "45  tech3       10               8       45       75       60     1        15\n",
            "46  tech3       11               9       45       75       60     1        15\n",
            "47  tech3       12              10      120      180      160     1        20\n",
            "48  tech3       13              11      300      360      330     1        20\n",
            "49  tech3       14              12       60       90       75     1        15\n",
            "50  tech3       21              13       60       90       75     1        15\n",
            "51  tech3       15              14       60      120       90     1        20\n",
            "52  tech3       16              15       60       90       75     1        15\n",
            "53  tech3       17              16      180      260      220     1        20\n",
            "54  tech3       18              17       60      120       90     1         1\n",
            "55  tech3       19              18       60      120       90     1         1\n",
            "56  tech3       20              19       60      120       90     1         1\n",
            "57  tech3      100              20        0        0        0     0         0\n"
          ]
        }
      ]
    },
    {
      "cell_type": "markdown",
      "source": [
        "manipulator and vozik characteristics"
      ],
      "metadata": {
        "id": "CRn8ooFqOxhr"
      }
    },
    {
      "cell_type": "code",
      "source": [
        "linka_df.columns = linka_df.columns.str.strip()\n",
        "recept_df.columns = recept_df.columns.str.strip()\n",
        "print(linka_df.columns)\n",
        "print(recept_df.columns)"
      ],
      "metadata": {
        "id": "bYHCTFpJWZXS",
        "outputId": "0af7d309-2e6f-43f7-97cf-ebd52a8d00bf",
        "colab": {
          "base_uri": "https://localhost:8080/"
        }
      },
      "execution_count": 64,
      "outputs": [
        {
          "output_type": "stream",
          "name": "stdout",
          "text": [
            "Index(['typ vany', 'id_vany', 'pozice_x_rel', 'pozice_x_cum'], dtype='object')\n",
            "Index(['tech', 'id_vany', 'poradi_operace', 'cas_min', 'cas_max', 'cas_opt',\n",
            "       'okap', 'okap_cas'],\n",
            "      dtype='object')\n"
          ]
        }
      ]
    },
    {
      "cell_type": "markdown",
      "source": [
        "simulace\n"
      ],
      "metadata": {
        "id": "IRhssJl0ccp4"
      }
    }
  ]
}