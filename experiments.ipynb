{
  "nbformat": 4,
  "nbformat_minor": 0,
  "metadata": {
    "colab": {
      "provenance": [],
      "authorship_tag": "ABX9TyOtmNcXd/aBbId/jSrzfpNz",
      "include_colab_link": true
    },
    "kernelspec": {
      "name": "python3",
      "display_name": "Python 3"
    },
    "language_info": {
      "name": "python"
    }
  },
  "cells": [
    {
      "cell_type": "markdown",
      "metadata": {
        "id": "view-in-github",
        "colab_type": "text"
      },
      "source": [
        "<a href=\"https://colab.research.google.com/github/heghiw/lakovaci-linka/blob/main/experiments.ipynb\" target=\"_parent\"><img src=\"https://colab.research.google.com/assets/colab-badge.svg\" alt=\"Open In Colab\"/></a>"
      ]
    },
    {
      "cell_type": "code",
      "source": [
        "# Remove the existing directory\n",
        "#!rm -rf lakovaci-linka\n",
        "\n",
        "# Clone the repository again\n",
        "!git clone https://github.com/heghiw/lakovaci-linka.git\n",
        "\n",
        "# Navigate to the directory\n",
        "%cd lakovaci-linka\n"
      ],
      "metadata": {
        "colab": {
          "base_uri": "https://localhost:8080/"
        },
        "id": "Cp8IUFAwGq4h",
        "outputId": "7677f6d9-468c-45fb-ac05-9c2567e34001"
      },
      "execution_count": 3,
      "outputs": [
        {
          "output_type": "stream",
          "name": "stdout",
          "text": [
            "fatal: destination path 'lakovaci-linka' already exists and is not an empty directory.\n",
            "/content/lakovaci-linka\n"
          ]
        }
      ]
    },
    {
      "cell_type": "markdown",
      "source": [
        "data prep"
      ],
      "metadata": {
        "id": "08D8KthMHW1X"
      }
    },
    {
      "cell_type": "code",
      "source": [
        "import pandas as pd\n",
        "\n",
        "# Define the path to the Excel file\n",
        "file_path = '/content/lakovaci-linka/data1.xlsx'\n",
        "\n",
        "# Read the sheet 'linka' into a DataFrame\n",
        "linka_df = pd.read_excel(file_path, sheet_name='linka')\n",
        "\n",
        "# Read the sheet 'recept' into a DataFrame\n",
        "recept_df = pd.read_excel(file_path, sheet_name='recept')\n",
        "\n",
        "print(\"Linka:\")\n",
        "print(linka_df)\n",
        "print(\"\\nRecepty:\")\n",
        "print(recept_df)\n",
        "\n"
      ],
      "metadata": {
        "colab": {
          "base_uri": "https://localhost:8080/"
        },
        "id": "J8oJ_fs2HWT6",
        "outputId": "7680bff7-7668-46ac-984d-9926e5d2ff66"
      },
      "execution_count": 2,
      "outputs": [
        {
          "output_type": "stream",
          "name": "stdout",
          "text": [
            "Linka:\n",
            "             typ vany  id_vany   pozice_x_rel  pozice_x_cum\n",
            "0               vstup         0           0.0           0.0\n",
            "1        Teplý oplach         1        2300.0        2300.0\n",
            "2             Postřik         2        1900.0        4200.0\n",
            "3    Ponor odm železo         3        1900.0        6100.0\n",
            "4    Ponor odm pozink         4        1800.0        7900.0\n",
            "5            oplach 1         5        1800.0        9700.0\n",
            "6            oplach 2         6        1800.0       11500.0\n",
            "7       Moření železo         7        1800.0       13300.0\n",
            "8       Moření pozink         8        1800.0       15100.0\n",
            "9      Oplach moř žel         9        1800.0       16900.0\n",
            "10  Oplach moř pozink        10        1800.0       18700.0\n",
            "11    oplach společný        11        1800.0       20500.0\n",
            "12           aktivace        12        1800.0       22300.0\n",
            "13             fosfát        13        1800.0       24100.0\n",
            "14             oplach        14        1800.0       25900.0\n",
            "15            Oplach         21        1800.0       27700.0\n",
            "16           pasivace        15        1800.0       29500.0\n",
            "17        demi oplach        16        1800.0       31300.0\n",
            "18                KTL        17        2300.0       33600.0\n",
            "19                UF1        18        2300.0       35900.0\n",
            "20                UF2        19        1800.0       37700.0\n",
            "21               Demi        20        1800.0       39500.0\n",
            "22            vystup        100        2300.0       41800.0\n",
            "23             vozik        500           NaN           NaN\n",
            "\n",
            "Recepty:\n",
            "     tech  id_vany  poradi_operace  cas_min  cas_max  cas_opt  okap  okap_cas\n",
            "0   tech1        0               1        0        0        0     0         0\n",
            "1   tech1        1               2       90      180      120     1        20\n",
            "2   tech1        2               3      120      180      160     0         0\n",
            "3   tech1        3               4      180      240      220     1        20\n",
            "4   tech1        5               5       45      120       60     1        15\n",
            "5   tech1        6               6       45      120       60     1        15\n",
            "6   tech1        7               7      420      500      480     1        20\n",
            "7   tech1        9               8       45       75       60     1        15\n",
            "8   tech1       11               9       45       75       60     1        15\n",
            "9   tech1       12              10       60      120       90     1        20\n",
            "10  tech1       13              11      300      360      330     1        20\n",
            "11  tech1       14              12       60       90       75     1        15\n",
            "12  tech1       21              13       60       90       75     1        15\n",
            "13  tech1       15              14       60      120       90     1        20\n",
            "14  tech1       16              15       60       90       75     1        15\n",
            "15  tech1       17              16      180      260      220     1        20\n",
            "16  tech1       18              17       60      120       90     1         1\n",
            "17  tech1       19              18       60      120       90     1         1\n",
            "18  tech1       20              19       60      120       90     1         1\n",
            "19  tech1      100              20        0        0        0     0         0\n",
            "20  tech2        0               1        0        0        0     0         0\n",
            "21  tech2        1               2       90      180      120     1        20\n",
            "22  tech2        2               3      120      180      160     0         0\n",
            "23  tech2        3               4      180      240      220     1        20\n",
            "24  tech2        5               5       45      120       60     1        15\n",
            "25  tech2        6               6       45      120       60     1        15\n",
            "26  tech2       11               7       45       75       60     1        15\n",
            "27  tech2       12               8      120      180      160     1        20\n",
            "28  tech2       13               9      300      360      330     1        20\n",
            "29  tech2       14              10       60       90       75     1        15\n",
            "30  tech2       21              11       60       90       75     1        15\n",
            "31  tech2       15              12       60      120       90     1        20\n",
            "32  tech2       16              13       60       90       75     1        15\n",
            "33  tech2       17              14      180      260      220     1        20\n",
            "34  tech2       18              15       60      120       90     1         1\n",
            "35  tech2       19              16       60      120       90     1         1\n",
            "36  tech2       20              17       60      120       90     1         1\n",
            "37  tech2      100              18        0        0        0     0         0\n",
            "38  tech3        0               1        0        0        0     0         0\n",
            "39  tech3        1               2       90      180      120     1        20\n",
            "40  tech3        2               3       60      120       90     0         0\n",
            "41  tech3        4               4       60      120       90     1        20\n",
            "42  tech3        5               5       45      120       60     1        15\n",
            "43  tech3        6               6       45      120       60     1        15\n",
            "44  tech3        8               7       90      150      120     1        20\n",
            "45  tech3       10               8       45       75       60     1        15\n",
            "46  tech3       11               9       45       75       60     1        15\n",
            "47  tech3       12              10      120      180      160     1        20\n",
            "48  tech3       13              11      300      360      330     1        20\n",
            "49  tech3       14              12       60       90       75     1        15\n",
            "50  tech3       21              13       60       90       75     1        15\n",
            "51  tech3       15              14       60      120       90     1        20\n",
            "52  tech3       16              15       60       90       75     1        15\n",
            "53  tech3       17              16      180      260      220     1        20\n",
            "54  tech3       18              17       60      120       90     1         1\n",
            "55  tech3       19              18       60      120       90     1         1\n",
            "56  tech3       20              19       60      120       90     1         1\n",
            "57  tech3      100              20        0        0        0     0         0\n"
          ]
        }
      ]
    },
    {
      "cell_type": "markdown",
      "source": [
        "manipulator and vozik characteristics"
      ],
      "metadata": {
        "id": "CRn8ooFqOxhr"
      }
    },
    {
      "cell_type": "code",
      "source": [
        "linka_df.columns = linka_df.columns.str.strip()\n",
        "recept_df.columns = recept_df.columns.str.strip()\n",
        "print(linka_df.columns)\n",
        "print(recept_df.columns)"
      ],
      "metadata": {
        "id": "bYHCTFpJWZXS",
        "outputId": "abc3f74f-ed97-4e4a-b84b-639692f5b36a",
        "colab": {
          "base_uri": "https://localhost:8080/"
        }
      },
      "execution_count": 5,
      "outputs": [
        {
          "output_type": "stream",
          "name": "stdout",
          "text": [
            "Index(['typ vany', 'id_vany', 'pozice_x_rel', 'pozice_x_cum'], dtype='object')\n",
            "Index(['tech', 'id_vany', 'poradi_operace', 'cas_min', 'cas_max', 'cas_opt',\n",
            "       'okap', 'okap_cas'],\n",
            "      dtype='object')\n"
          ]
        }
      ]
    },
    {
      "cell_type": "markdown",
      "source": [
        "simulace\n"
      ],
      "metadata": {
        "id": "IRhssJl0ccp4"
      }
    },
    {
      "cell_type": "markdown",
      "source": [
        "vizualizace\n"
      ],
      "metadata": {
        "id": "4xjZJyDNgqWF"
      }
    },
    {
      "cell_type": "code",
      "source": [
        "!pip install pulp"
      ],
      "metadata": {
        "colab": {
          "base_uri": "https://localhost:8080/"
        },
        "id": "1AYnPeiS-_Ng",
        "outputId": "25066b76-21db-4126-ba2a-a1cc04dd54ea"
      },
      "execution_count": 2,
      "outputs": [
        {
          "output_type": "stream",
          "name": "stdout",
          "text": [
            "Requirement already satisfied: pulp in /usr/local/lib/python3.11/dist-packages (3.0.2)\n"
          ]
        }
      ]
    },
    {
      "cell_type": "markdown",
      "source": [
        "ver5\n"
      ],
      "metadata": {
        "id": "Z0yr0VYSCA6m"
      }
    },
    {
      "cell_type": "code",
      "source": [
        "import pandas as pd\n",
        "import numpy as np\n",
        "import math\n",
        "import networkx as nx\n",
        "from pulp import LpProblem, LpVariable, lpSum, LpMinimize, LpBinary, LpContinuous, value, LpStatus\n",
        "\n",
        "# recept_df: recipe operations with columns:\n",
        "#    \"poradi_operace\" : operation order (integer)\n",
        "#    \"id_vany\": bath id (integer or string)\n",
        "#    \"cas_opt\": optimal dwell time in seconds\n",
        "#    \"okap\": 0/1 (whether okap wait is required)\n",
        "#    \"okap_cas\": okap wait time in seconds\n",
        "#\n",
        "# linka_df: bath configuration with columns:\n",
        "#    \"id_vany\": bath id (matches recept_df)\n",
        "#    \"pozice_x_cum\": horizontal position in mm\n",
        "\n",
        "# -------------------------------\n",
        "# Manipulator Characteristics\n",
        "# -------------------------------\n",
        "manipulator_characteristics = {\n",
        "    \"okap_point\": 2000,         # mm: height for okap during upward movement\n",
        "    \"highest_point\": 2750,       # mm: maximum vertical height\n",
        "    \"deceleration_point\": 500,   # mm: point where downward speed is reduced near the bath surface\n",
        "    \"speed_after_ponoreni\": 8,   # m/min: slower speed used near the bath surface\n",
        "    \"speed_going_up\": 15,        # m/min: upward speed\n",
        "    \"speed_going_down\": 12,      # m/min: downward speed before deceleration\n",
        "    \"speed_left_right\": 35       # m/min: horizontal speed\n",
        "}\n",
        "num_manipulators = 6\n",
        "takt_limit = 300  # seconds\n",
        "\n",
        "# For convenience, compute speeds in mm/s.\n",
        "speed_going_up = manipulator_characteristics[\"speed_going_up\"] * 1000 / 60\n",
        "speed_going_down = manipulator_characteristics[\"speed_going_down\"] * 1000 / 60\n",
        "speed_left_right = manipulator_characteristics[\"speed_left_right\"] * 1000 / 60\n",
        "speed_after_ponoreni = manipulator_characteristics[\"speed_after_ponoreni\"] * 1000 / 60\n",
        "\n",
        "# -------------------------------\n",
        "# Helper: Estimate processing time for an operation\n",
        "# -------------------------------\n",
        "def compute_processing_time(row, current_x):\n",
        "    \"\"\"\n",
        "    Approximate processing time for an operation.\n",
        "    Compute horizontal move time from current_x to target_x (from linka_df),\n",
        "    plus vertical down/up times (using constant speeds), plus dwell time.\n",
        "\n",
        "    For simplicity, assume:\n",
        "      - Horizontal time = |target_x - current_x| / speed_left_right.\n",
        "      - Vertical down: from highest_point to 0:\n",
        "          Time_down = ( (highest_point - deceleration_point) / speed_going_down +\n",
        "                        (deceleration_point - 0) / speed_after_ponoreni )\n",
        "      - Vertical up: similar, but if okap is required, add okap_cas.\n",
        "    \"\"\"\n",
        "    # Get target_x from linka_df:\n",
        "    bath_id = row[\"id_vany\"]\n",
        "    target_row = linka_df[linka_df[\"id_vany\"] == bath_id]\n",
        "    if target_row.empty:\n",
        "        raise ValueError(f\"Bath id {bath_id} not found in linka_df\")\n",
        "    target_x = float(target_row.iloc[0][\"pozice_x_cum\"])\n",
        "    horizontal_time = abs(target_x - current_x) / speed_left_right\n",
        "\n",
        "    # Vertical down time:\n",
        "    vertical_down_time = (manipulator_characteristics[\"highest_point\"] -\n",
        "                          manipulator_characteristics[\"deceleration_point\"]) / speed_going_down\n",
        "    vertical_down_time += (manipulator_characteristics[\"deceleration_point\"] - 0) / speed_after_ponoreni\n",
        "\n",
        "    # Vertical up time:\n",
        "    vertical_up_time = (manipulator_characteristics[\"okap_point\"] - 0) / speed_going_up\n",
        "    # If okap is required, add wait time:\n",
        "    okap_time = row[\"okap_cas\"] if row[\"okap\"] == 1 else 0\n",
        "    vertical_up_time += okap_time\n",
        "    vertical_up_time += (manipulator_characteristics[\"highest_point\"] - manipulator_characteristics[\"okap_point\"]) / speed_going_up\n",
        "\n",
        "    dwell_time = row[\"cas_opt\"]\n",
        "\n",
        "    return horizontal_time + vertical_down_time + dwell_time + vertical_up_time, target_x\n",
        "\n",
        "# -------------------------------\n",
        "# Stage 1: MILP Scheduling (using PuLP)\n",
        "# -------------------------------\n",
        "def schedule_operations_MILP(recept_df, num_manipulators, takt_limit=300):\n",
        "    \"\"\"\n",
        "    Use MILP to schedule operations.\n",
        "    We assume round-robin assignment of operations to manipulators.\n",
        "    For each operation j (sorted by poradi_operace) we define a start time s_j.\n",
        "    We enforce that for operations at the same bath, their intervals do not overlap.\n",
        "    For simplicity, here we assume processing time p_j is computed by compute_processing_time.\n",
        "\n",
        "    Returns: a DataFrame with columns:\n",
        "      \"poradi_operace\", \"id_vany\", \"manipulator\", \"start_time\", \"finish_time\", \"processing_time\"\n",
        "    \"\"\"\n",
        "    # Sort operations by order.\n",
        "    ops = recept_df[recept_df[\"tech\"]==\"tech1\"].sort_values(\"poradi_operace\").reset_index(drop=True)\n",
        "    n_ops = len(ops)\n",
        "    # Assign each operation to a manipulator round-robin.\n",
        "    ops[\"manipulator\"] = [i % num_manipulators for i in range(n_ops)]\n",
        "\n",
        "    # Create MILP problem.\n",
        "    prob = LpProblem(\"ManipulatorScheduling\", LpMinimize)\n",
        "\n",
        "    # Decision variables: s_j: start time for each operation j.\n",
        "    s = {j: LpVariable(f\"s_{j}\", lowBound=0, cat=LpContinuous) for j in range(n_ops)}\n",
        "\n",
        "    # Parameters: processing time p_j and target_x.\n",
        "    p = {}\n",
        "    target_x_vals = {}\n",
        "    current_x = {}  # assume each manipulator starts at position 0.\n",
        "    for m in range(num_manipulators):\n",
        "        current_x[m] = 0\n",
        "\n",
        "    # For simplicity, we compute processing time in sequence for each manipulator.\n",
        "    # (In a full MILP you would have to decide order per manipulator.)\n",
        "    p_list = [0]*n_ops\n",
        "    target_list = [0]*n_ops\n",
        "    for j in range(n_ops):\n",
        "        m = ops.loc[j, \"manipulator\"]\n",
        "        # Use current_x for manipulator m.\n",
        "        p_j, target_x = compute_processing_time(ops.loc[j], current_x[m])\n",
        "        p_list[j] = p_j\n",
        "        target_list[j] = target_x\n",
        "        # Update current_x for that manipulator.\n",
        "        current_x[m] = target_x\n",
        "\n",
        "    ops[\"processing_time\"] = p_list\n",
        "\n",
        "    # Objective: minimize overall finish time (which must be <= takt_limit).\n",
        "    # Let finish time for op j be s_j + p_j.\n",
        "    T = LpVariable(\"T\", lowBound=0, upBound=takt_limit, cat=LpContinuous)\n",
        "    prob += T  # minimize T\n",
        "    for j in range(n_ops):\n",
        "        prob += s[j] + p_list[j] <= T\n",
        "\n",
        "    # Non-overlap constraints for operations on the same bath.\n",
        "    # For each pair j, k with same bath, enforce: either op_j finishes before op_k starts or vice versa.\n",
        "    # We use big-M formulation.\n",
        "    M = 10000\n",
        "    y = {}\n",
        "    for j in range(n_ops):\n",
        "        for k in range(j+1, n_ops):\n",
        "            if ops.loc[j, \"id_vany\"] == ops.loc[k, \"id_vany\"]:\n",
        "                # Define binary variable y_jk.\n",
        "                y[(j,k)] = LpVariable(f\"y_{j}_{k}\", cat=LpBinary)\n",
        "                # Constraint: s_j + p_j <= s_k + M*(1 - y_jk)\n",
        "                prob += s[j] + p_list[j] <= s[k] + M*(1 - y[(j,k)])\n",
        "                # Constraint: s_k + p_k <= s[j] + M*y_jk\n",
        "                prob += s[k] + p_list[k] <= s[j] + M*y[(j,k)]\n",
        "\n",
        "    # Also, each operation must finish within takt_limit.\n",
        "    for j in range(n_ops):\n",
        "        prob += s[j] + p_list[j] <= takt_limit\n",
        "\n",
        "    # Solve the MILP.\n",
        "    prob.solve()\n",
        "\n",
        "    print(\"MILP Status:\", LpStatus[prob.status])\n",
        "    schedule = []\n",
        "    for j in range(n_ops):\n",
        "        schedule.append({\n",
        "            \"poradi_operace\": ops.loc[j, \"poradi_operace\"],\n",
        "            \"id_vany\": ops.loc[j, \"id_vany\"],\n",
        "            \"manipulator\": ops.loc[j, \"manipulator\"],\n",
        "            \"start_time\": value(s[j]),\n",
        "            \"finish_time\": value(s[j]) + p_list[j],\n",
        "            \"processing_time\": p_list[j]\n",
        "        })\n",
        "    schedule_df = pd.DataFrame(schedule)\n",
        "    return schedule_df\n",
        "\n",
        "# -------------------------------\n",
        "# Stage 2: Graph-Based Local Path Planning\n",
        "# -------------------------------\n",
        "def plan_local_paths(schedule_df, linka_df):\n",
        "    \"\"\"\n",
        "    Build a graph from bath positions.\n",
        "    Nodes: bath ids from linka_df.\n",
        "    Edge weight: Euclidean distance between baths.\n",
        "    For each manipulator, for each consecutive pair of operations, compute the shortest path.\n",
        "\n",
        "    Returns a dict keyed by manipulator containing list of transitions.\n",
        "    Each transition is a dict: { \"from\": bath_id_from, \"to\": bath_id_to, \"path\": [list of bath_ids], \"distance\": total_distance }\n",
        "    \"\"\"\n",
        "    # Build graph: nodes are bath ids with positions; edges between every pair.\n",
        "    G = nx.Graph()\n",
        "    for idx, row in linka_df.iterrows():\n",
        "        bath = row[\"id_vany\"]\n",
        "        x = float(row[\"pozice_x_cum\"])\n",
        "        # Use x coordinate; you could add more dimensions.\n",
        "        G.add_node(bath, pos=(x, 0))\n",
        "\n",
        "    baths = list(linka_df[\"id_vany\"])\n",
        "    # Fully connect the baths\n",
        "    for i in range(len(baths)):\n",
        "        for j in range(i+1, len(baths)):\n",
        "            bath_i = baths[i]\n",
        "            bath_j = baths[j]\n",
        "            pos_i = G.nodes[bath_i]['pos']\n",
        "            pos_j = G.nodes[bath_j]['pos']\n",
        "            dist = math.dist(pos_i, pos_j)\n",
        "            G.add_edge(bath_i, bath_j, weight=dist)\n",
        "\n",
        "    # For each manipulator, get its schedule (ordered by start_time).\n",
        "    paths = {}\n",
        "    for m in schedule_df[\"manipulator\"].unique():\n",
        "        ops = schedule_df[schedule_df[\"manipulator\"] == m].sort_values(\"start_time\")\n",
        "        transitions = []\n",
        "        # Assume the starting position for each manipulator is \"Vstup\" (which we may set to a default bath or leave as None)\n",
        "        from_bath = \"Vstup\"\n",
        "        for idx, row in ops.iterrows():\n",
        "            to_bath = row[\"id_vany\"]\n",
        "            if from_bath == \"Vstup\":\n",
        "                # For simplicity, assume the first bath is reached directly.\n",
        "                path = [to_bath]\n",
        "                dist = 0\n",
        "            else:\n",
        "                # Use A* search to plan path from from_bath to to_bath.\n",
        "                path = nx.astar_path(G, from_bath, to_bath, weight='weight')\n",
        "                # Compute total distance.\n",
        "                dist = sum(G[u][v]['weight'] for u, v in zip(path[:-1], path[1:]))\n",
        "            transitions.append({\n",
        "                \"from\": from_bath,\n",
        "                \"to\": to_bath,\n",
        "                \"path\": path,\n",
        "                \"distance\": dist\n",
        "            })\n",
        "            from_bath = to_bath\n",
        "        paths[m] = transitions\n",
        "    return paths\n",
        "\n",
        "# -------------------------------\n",
        "# Main Execution: Build Schedule and Paths\n",
        "# -------------------------------\n",
        "if __name__ == '__main__':\n",
        "    # First, schedule operations using MILP.\n",
        "    schedule_df = schedule_operations_MILP(recept_df, num_manipulators, takt_limit=takt_limit)\n",
        "    print(\"MILP Schedule:\")\n",
        "    print(schedule_df)\n",
        "\n",
        "    # Then, for each manipulator, plan local paths between consecutive baths.\n",
        "    path_plan = plan_local_paths(schedule_df, linka_df)\n",
        "    print(\"\\nLocal Path Planning per Manipulator:\")\n",
        "    for m, transitions in path_plan.items():\n",
        "        print(f\"Manipulator {m}:\")\n",
        "        for t in transitions:\n",
        "            print(t)\n"
      ],
      "metadata": {
        "colab": {
          "base_uri": "https://localhost:8080/",
          "height": 627
        },
        "id": "5MbIqIZl-yUY",
        "outputId": "85938702-b752-4fa9-fb78-dcac668e5577"
      },
      "execution_count": 3,
      "outputs": [
        {
          "output_type": "error",
          "ename": "KeyError",
          "evalue": "'id_vany'",
          "traceback": [
            "\u001b[0;31m---------------------------------------------------------------------------\u001b[0m",
            "\u001b[0;31mKeyError\u001b[0m                                  Traceback (most recent call last)",
            "\u001b[0;32m/usr/local/lib/python3.11/dist-packages/pandas/core/indexes/base.py\u001b[0m in \u001b[0;36mget_loc\u001b[0;34m(self, key)\u001b[0m\n\u001b[1;32m   3804\u001b[0m         \u001b[0;32mtry\u001b[0m\u001b[0;34m:\u001b[0m\u001b[0;34m\u001b[0m\u001b[0;34m\u001b[0m\u001b[0m\n\u001b[0;32m-> 3805\u001b[0;31m             \u001b[0;32mreturn\u001b[0m \u001b[0mself\u001b[0m\u001b[0;34m.\u001b[0m\u001b[0m_engine\u001b[0m\u001b[0;34m.\u001b[0m\u001b[0mget_loc\u001b[0m\u001b[0;34m(\u001b[0m\u001b[0mcasted_key\u001b[0m\u001b[0;34m)\u001b[0m\u001b[0;34m\u001b[0m\u001b[0;34m\u001b[0m\u001b[0m\n\u001b[0m\u001b[1;32m   3806\u001b[0m         \u001b[0;32mexcept\u001b[0m \u001b[0mKeyError\u001b[0m \u001b[0;32mas\u001b[0m \u001b[0merr\u001b[0m\u001b[0;34m:\u001b[0m\u001b[0;34m\u001b[0m\u001b[0;34m\u001b[0m\u001b[0m\n",
            "\u001b[0;32mindex.pyx\u001b[0m in \u001b[0;36mpandas._libs.index.IndexEngine.get_loc\u001b[0;34m()\u001b[0m\n",
            "\u001b[0;32mindex.pyx\u001b[0m in \u001b[0;36mpandas._libs.index.IndexEngine.get_loc\u001b[0;34m()\u001b[0m\n",
            "\u001b[0;32mpandas/_libs/hashtable_class_helper.pxi\u001b[0m in \u001b[0;36mpandas._libs.hashtable.PyObjectHashTable.get_item\u001b[0;34m()\u001b[0m\n",
            "\u001b[0;32mpandas/_libs/hashtable_class_helper.pxi\u001b[0m in \u001b[0;36mpandas._libs.hashtable.PyObjectHashTable.get_item\u001b[0;34m()\u001b[0m\n",
            "\u001b[0;31mKeyError\u001b[0m: 'id_vany'",
            "\nThe above exception was the direct cause of the following exception:\n",
            "\u001b[0;31mKeyError\u001b[0m                                  Traceback (most recent call last)",
            "\u001b[0;32m<ipython-input-3-a47928de81b6>\u001b[0m in \u001b[0;36m<cell line: 0>\u001b[0;34m()\u001b[0m\n\u001b[1;32m    233\u001b[0m \u001b[0;32mif\u001b[0m \u001b[0m__name__\u001b[0m \u001b[0;34m==\u001b[0m \u001b[0;34m'__main__'\u001b[0m\u001b[0;34m:\u001b[0m\u001b[0;34m\u001b[0m\u001b[0;34m\u001b[0m\u001b[0m\n\u001b[1;32m    234\u001b[0m     \u001b[0;31m# First, schedule operations using MILP.\u001b[0m\u001b[0;34m\u001b[0m\u001b[0;34m\u001b[0m\u001b[0m\n\u001b[0;32m--> 235\u001b[0;31m     \u001b[0mschedule_df\u001b[0m \u001b[0;34m=\u001b[0m \u001b[0mschedule_operations_MILP\u001b[0m\u001b[0;34m(\u001b[0m\u001b[0mrecept_df\u001b[0m\u001b[0;34m,\u001b[0m \u001b[0mnum_manipulators\u001b[0m\u001b[0;34m,\u001b[0m \u001b[0mtakt_limit\u001b[0m\u001b[0;34m=\u001b[0m\u001b[0mtakt_limit\u001b[0m\u001b[0;34m)\u001b[0m\u001b[0;34m\u001b[0m\u001b[0;34m\u001b[0m\u001b[0m\n\u001b[0m\u001b[1;32m    236\u001b[0m     \u001b[0mprint\u001b[0m\u001b[0;34m(\u001b[0m\u001b[0;34m\"MILP Schedule:\"\u001b[0m\u001b[0;34m)\u001b[0m\u001b[0;34m\u001b[0m\u001b[0;34m\u001b[0m\u001b[0m\n\u001b[1;32m    237\u001b[0m     \u001b[0mprint\u001b[0m\u001b[0;34m(\u001b[0m\u001b[0mschedule_df\u001b[0m\u001b[0;34m)\u001b[0m\u001b[0;34m\u001b[0m\u001b[0;34m\u001b[0m\u001b[0m\n",
            "\u001b[0;32m<ipython-input-3-a47928de81b6>\u001b[0m in \u001b[0;36mschedule_operations_MILP\u001b[0;34m(recept_df, num_manipulators, takt_limit)\u001b[0m\n\u001b[1;32m    117\u001b[0m         \u001b[0mm\u001b[0m \u001b[0;34m=\u001b[0m \u001b[0mops\u001b[0m\u001b[0;34m.\u001b[0m\u001b[0mloc\u001b[0m\u001b[0;34m[\u001b[0m\u001b[0mj\u001b[0m\u001b[0;34m,\u001b[0m \u001b[0;34m\"manipulator\"\u001b[0m\u001b[0;34m]\u001b[0m\u001b[0;34m\u001b[0m\u001b[0;34m\u001b[0m\u001b[0m\n\u001b[1;32m    118\u001b[0m         \u001b[0;31m# Use current_x for manipulator m.\u001b[0m\u001b[0;34m\u001b[0m\u001b[0;34m\u001b[0m\u001b[0m\n\u001b[0;32m--> 119\u001b[0;31m         \u001b[0mp_j\u001b[0m\u001b[0;34m,\u001b[0m \u001b[0mtarget_x\u001b[0m \u001b[0;34m=\u001b[0m \u001b[0mcompute_processing_time\u001b[0m\u001b[0;34m(\u001b[0m\u001b[0mops\u001b[0m\u001b[0;34m.\u001b[0m\u001b[0mloc\u001b[0m\u001b[0;34m[\u001b[0m\u001b[0mj\u001b[0m\u001b[0;34m]\u001b[0m\u001b[0;34m,\u001b[0m \u001b[0mcurrent_x\u001b[0m\u001b[0;34m[\u001b[0m\u001b[0mm\u001b[0m\u001b[0;34m]\u001b[0m\u001b[0;34m)\u001b[0m\u001b[0;34m\u001b[0m\u001b[0;34m\u001b[0m\u001b[0m\n\u001b[0m\u001b[1;32m    120\u001b[0m         \u001b[0mp_list\u001b[0m\u001b[0;34m[\u001b[0m\u001b[0mj\u001b[0m\u001b[0;34m]\u001b[0m \u001b[0;34m=\u001b[0m \u001b[0mp_j\u001b[0m\u001b[0;34m\u001b[0m\u001b[0;34m\u001b[0m\u001b[0m\n\u001b[1;32m    121\u001b[0m         \u001b[0mtarget_list\u001b[0m\u001b[0;34m[\u001b[0m\u001b[0mj\u001b[0m\u001b[0;34m]\u001b[0m \u001b[0;34m=\u001b[0m \u001b[0mtarget_x\u001b[0m\u001b[0;34m\u001b[0m\u001b[0;34m\u001b[0m\u001b[0m\n",
            "\u001b[0;32m<ipython-input-3-a47928de81b6>\u001b[0m in \u001b[0;36mcompute_processing_time\u001b[0;34m(row, current_x)\u001b[0m\n\u001b[1;32m     55\u001b[0m     \u001b[0;31m# Get target_x from linka_df:\u001b[0m\u001b[0;34m\u001b[0m\u001b[0;34m\u001b[0m\u001b[0m\n\u001b[1;32m     56\u001b[0m     \u001b[0mbath_id\u001b[0m \u001b[0;34m=\u001b[0m \u001b[0mrow\u001b[0m\u001b[0;34m[\u001b[0m\u001b[0;34m\"id_vany\"\u001b[0m\u001b[0;34m]\u001b[0m\u001b[0;34m\u001b[0m\u001b[0;34m\u001b[0m\u001b[0m\n\u001b[0;32m---> 57\u001b[0;31m     \u001b[0mtarget_row\u001b[0m \u001b[0;34m=\u001b[0m \u001b[0mlinka_df\u001b[0m\u001b[0;34m[\u001b[0m\u001b[0mlinka_df\u001b[0m\u001b[0;34m[\u001b[0m\u001b[0;34m\"id_vany\"\u001b[0m\u001b[0;34m]\u001b[0m \u001b[0;34m==\u001b[0m \u001b[0mbath_id\u001b[0m\u001b[0;34m]\u001b[0m\u001b[0;34m\u001b[0m\u001b[0;34m\u001b[0m\u001b[0m\n\u001b[0m\u001b[1;32m     58\u001b[0m     \u001b[0;32mif\u001b[0m \u001b[0mtarget_row\u001b[0m\u001b[0;34m.\u001b[0m\u001b[0mempty\u001b[0m\u001b[0;34m:\u001b[0m\u001b[0;34m\u001b[0m\u001b[0;34m\u001b[0m\u001b[0m\n\u001b[1;32m     59\u001b[0m         \u001b[0;32mraise\u001b[0m \u001b[0mValueError\u001b[0m\u001b[0;34m(\u001b[0m\u001b[0;34mf\"Bath id {bath_id} not found in linka_df\"\u001b[0m\u001b[0;34m)\u001b[0m\u001b[0;34m\u001b[0m\u001b[0;34m\u001b[0m\u001b[0m\n",
            "\u001b[0;32m/usr/local/lib/python3.11/dist-packages/pandas/core/frame.py\u001b[0m in \u001b[0;36m__getitem__\u001b[0;34m(self, key)\u001b[0m\n\u001b[1;32m   4100\u001b[0m             \u001b[0;32mif\u001b[0m \u001b[0mself\u001b[0m\u001b[0;34m.\u001b[0m\u001b[0mcolumns\u001b[0m\u001b[0;34m.\u001b[0m\u001b[0mnlevels\u001b[0m \u001b[0;34m>\u001b[0m \u001b[0;36m1\u001b[0m\u001b[0;34m:\u001b[0m\u001b[0;34m\u001b[0m\u001b[0;34m\u001b[0m\u001b[0m\n\u001b[1;32m   4101\u001b[0m                 \u001b[0;32mreturn\u001b[0m \u001b[0mself\u001b[0m\u001b[0;34m.\u001b[0m\u001b[0m_getitem_multilevel\u001b[0m\u001b[0;34m(\u001b[0m\u001b[0mkey\u001b[0m\u001b[0;34m)\u001b[0m\u001b[0;34m\u001b[0m\u001b[0;34m\u001b[0m\u001b[0m\n\u001b[0;32m-> 4102\u001b[0;31m             \u001b[0mindexer\u001b[0m \u001b[0;34m=\u001b[0m \u001b[0mself\u001b[0m\u001b[0;34m.\u001b[0m\u001b[0mcolumns\u001b[0m\u001b[0;34m.\u001b[0m\u001b[0mget_loc\u001b[0m\u001b[0;34m(\u001b[0m\u001b[0mkey\u001b[0m\u001b[0;34m)\u001b[0m\u001b[0;34m\u001b[0m\u001b[0;34m\u001b[0m\u001b[0m\n\u001b[0m\u001b[1;32m   4103\u001b[0m             \u001b[0;32mif\u001b[0m \u001b[0mis_integer\u001b[0m\u001b[0;34m(\u001b[0m\u001b[0mindexer\u001b[0m\u001b[0;34m)\u001b[0m\u001b[0;34m:\u001b[0m\u001b[0;34m\u001b[0m\u001b[0;34m\u001b[0m\u001b[0m\n\u001b[1;32m   4104\u001b[0m                 \u001b[0mindexer\u001b[0m \u001b[0;34m=\u001b[0m \u001b[0;34m[\u001b[0m\u001b[0mindexer\u001b[0m\u001b[0;34m]\u001b[0m\u001b[0;34m\u001b[0m\u001b[0;34m\u001b[0m\u001b[0m\n",
            "\u001b[0;32m/usr/local/lib/python3.11/dist-packages/pandas/core/indexes/base.py\u001b[0m in \u001b[0;36mget_loc\u001b[0;34m(self, key)\u001b[0m\n\u001b[1;32m   3810\u001b[0m             ):\n\u001b[1;32m   3811\u001b[0m                 \u001b[0;32mraise\u001b[0m \u001b[0mInvalidIndexError\u001b[0m\u001b[0;34m(\u001b[0m\u001b[0mkey\u001b[0m\u001b[0;34m)\u001b[0m\u001b[0;34m\u001b[0m\u001b[0;34m\u001b[0m\u001b[0m\n\u001b[0;32m-> 3812\u001b[0;31m             \u001b[0;32mraise\u001b[0m \u001b[0mKeyError\u001b[0m\u001b[0;34m(\u001b[0m\u001b[0mkey\u001b[0m\u001b[0;34m)\u001b[0m \u001b[0;32mfrom\u001b[0m \u001b[0merr\u001b[0m\u001b[0;34m\u001b[0m\u001b[0;34m\u001b[0m\u001b[0m\n\u001b[0m\u001b[1;32m   3813\u001b[0m         \u001b[0;32mexcept\u001b[0m \u001b[0mTypeError\u001b[0m\u001b[0;34m:\u001b[0m\u001b[0;34m\u001b[0m\u001b[0;34m\u001b[0m\u001b[0m\n\u001b[1;32m   3814\u001b[0m             \u001b[0;31m# If we have a listlike key, _check_indexing_error will raise\u001b[0m\u001b[0;34m\u001b[0m\u001b[0;34m\u001b[0m\u001b[0m\n",
            "\u001b[0;31mKeyError\u001b[0m: 'id_vany'"
          ]
        }
      ]
    }
  ]
}