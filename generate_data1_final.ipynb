{
 "cells": [
  {
   "cell_type": "markdown",
   "id": "29b4ce0c",
   "metadata": {},
   "source": [
    "# Transform data"
   ]
  },
  {
   "cell_type": "code",
   "execution_count": 1,
   "id": "3919973e",
   "metadata": {},
   "outputs": [
    {
     "name": "stdout",
     "output_type": "stream",
     "text": [
      "Varování: V receptuře 'Tech_1_-_FE_plus_moř' není nalezena vana pro operaci 'Demi '\n",
      "Varování: V receptuře 'Tech_2_-_Fe_bez_moř' není nalezena vana pro operaci 'Demi '\n",
      "Varování: V receptuře 'Tech_3_-_Zn_plus_moř' není nalezena vana pro operaci 'Demi '\n",
      "Soubor 'data1.xlsx' byl úspěšně vytvořen.\n"
     ]
    }
   ],
   "source": [
    "\n",
    "import pandas as pd\n",
    "\n",
    "# Načti vstupní soubor\n",
    "input_excel = \"receptury-po-technologiich_final.xlsx\"\n",
    "xlsx = pd.ExcelFile(input_excel)\n",
    "sheet_names = xlsx.sheet_names\n",
    "\n",
    "# Načti vany\n",
    "df_linka = xlsx.parse(\"vany_a_vzdalenosti\")\n",
    "\n",
    "# Získání všech recepturových listů\n",
    "recept_sheets = [s for s in sheet_names if s != \"vany_a_vzdalenosti\"]\n",
    "\n",
    "# Vytvoření výstupního seznamu řádků\n",
    "recept_rows = []\n",
    "\n",
    "for idx, sheet in enumerate(recept_sheets):\n",
    "    df_recept = xlsx.parse(sheet)\n",
    "    tech_id = f\"tech{idx + 1}\"  # tech1, tech2, ...\n",
    "\n",
    "    if \"nazev_operace\" not in df_recept.columns:\n",
    "        print(f\"List '{sheet}' neobsahuje sloupec 'nazev_operace'.\")\n",
    "        print(f\"Dostupné sloupce: {list(df_recept.columns)}\")\n",
    "        continue\n",
    "\n",
    "    df_recept = df_recept.reset_index(drop=True)\n",
    "\n",
    "    for i, row in df_recept.iterrows():\n",
    "        nazev = row[\"nazev_operace\"]\n",
    "        odpovida = df_linka[df_linka[\"typ vany\"] == nazev]\n",
    "\n",
    "        if odpovida.empty:\n",
    "            print(f\"Varování: V receptuře '{sheet}' není nalezena vana pro operaci '{nazev}'\")\n",
    "            continue\n",
    "\n",
    "        id_vany = odpovida[\"id_vany\"].values[0]\n",
    "\n",
    "        recept_rows.append({\n",
    "            \"tech\": tech_id,\n",
    "            \"id_vany\": id_vany,\n",
    "            \"poradi_operace\": i + 1,\n",
    "            \"cas_min\": int(row[\"cas_min\"]),\n",
    "            \"cas_opt\": int(row[\"cas_opt\"]),\n",
    "            \"cas_max\": int(row[\"cas_max\"]),\n",
    "            \"okap\": 1 if int(row[\"okap_cas\"]) > 0 else 0,\n",
    "            \"okap_cas\": int(row[\"okap_cas\"])\n",
    "        })\n",
    "\n",
    "# Sestavení DataFrame a export do Excelu\n",
    "df_recept = pd.DataFrame(recept_rows)\n",
    "with pd.ExcelWriter(\"data1.xlsx\") as writer:\n",
    "    df_linka.to_excel(writer, sheet_name=\"linka\", index=False)\n",
    "    df_recept.to_excel(writer, sheet_name=\"recept\", index=False)\n",
    "\n",
    "print(\"Soubor 'data1.xlsx' byl úspěšně vytvořen.\")\n"
   ]
  },
  {
   "cell_type": "code",
   "execution_count": null,
   "id": "ae7b87da",
   "metadata": {},
   "outputs": [],
   "source": []
  }
 ],
 "metadata": {
  "kernelspec": {
   "display_name": "Python 3 (ipykernel)",
   "language": "python",
   "name": "python3"
  },
  "language_info": {
   "codemirror_mode": {
    "name": "ipython",
    "version": 3
   },
   "file_extension": ".py",
   "mimetype": "text/x-python",
   "name": "python",
   "nbconvert_exporter": "python",
   "pygments_lexer": "ipython3",
   "version": "3.9.12"
  }
 },
 "nbformat": 4,
 "nbformat_minor": 5
}
